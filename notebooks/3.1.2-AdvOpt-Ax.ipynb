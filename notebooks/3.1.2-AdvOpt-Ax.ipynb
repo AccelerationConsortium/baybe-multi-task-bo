{
 "cells": [
  {
   "cell_type": "markdown",
   "metadata": {},
   "source": [
    "- (Multi-Obj tut: https://ax.dev/tutorials/multiobjective_optimization.html)\n",
    "- Multi-task, AxClient: \n",
    "    - https://ac-microcourses.readthedocs.io/en/latest/courses/data-science/2.5-multi-task.html\n",
    "    - https://github.com/facebook/Ax/issues/2546"
   ]
  },
  {
   "cell_type": "code",
   "execution_count": 1,
   "metadata": {},
   "outputs": [
    {
     "name": "stdout",
     "output_type": "stream",
     "text": [
      "Loaded as API: https://accelerationconsortium-crabnet-hyperparameter.hf.space ✔\n"
     ]
    }
   ],
   "source": [
    "# load the Advanced Optimization from AC huggingface\n",
    "from gradio_client import Client\n",
    "client = Client(\"AccelerationConsortium/crabnet-hyperparameter\")\n",
    "\n",
    "import numpy as np\n",
    "from ax.core.observation import ObservationFeatures\n",
    "from ax.modelbridge.generation_strategy import GenerationStep, GenerationStrategy\n",
    "from ax.modelbridge.registry import Models\n",
    "from ax.modelbridge.transforms.task_encode import TaskEncode\n",
    "from ax.modelbridge.transforms.unit_x import UnitX\n",
    "from ax.service.ax_client import AxClient, ObjectiveProperties\n",
    "from ax.utils.common.typeutils import not_none"
   ]
  },
  {
   "cell_type": "code",
   "execution_count": 2,
   "metadata": {},
   "outputs": [],
   "source": [
    "def set_seeds(seed = 42):\n",
    "    np.random.seed(seed)"
   ]
  },
  {
   "cell_type": "code",
   "execution_count": 3,
   "metadata": {},
   "outputs": [],
   "source": [
    "# y1 and y2 are correlated \n",
    "# Adv Opt function for y1\n",
    "def adv_opt_y1(x1, x2, x3, x4, x5, x6, x7, x8, x9, x10, x11, x12, x13, x14, x15, x16, x17, x18, x19, x20, c1, c2, c3): \n",
    "    result = client.predict(\n",
    "        x1, # float (numeric value between 0.0 and 1.0) in 'x1' Slider component\n",
    "\t\tx2,\t# float (numeric value between 0.0 and 1.0)\tin 'x2' Slider component\n",
    "\t\tx3,\t# float (numeric value between 0.0 and 1.0) in 'x3' Slider component\n",
    "\t\tx4,\t# float (numeric value between 0.0 and 1.0) in 'x4' Slider component\n",
    "\t\tx5,\t# float (numeric value between 0.0 and 1.0) in 'x5' Slider component\n",
    "\t\tx6,\t# float (numeric value between 0.0 and 1.0) in 'x6' Slider component\n",
    "\t\tx7,\t# float (numeric value between 0.0 and 1.0) in 'x7' Slider component\n",
    "\t\tx8,\t# float (numeric value between 0.0 and 1.0) in 'x8' Slider component\n",
    "\t\tx9,\t# float (numeric value between 0.0 and 1.0) in 'x9' Slider component\n",
    "\t\tx10,\t# float (numeric value between 0.0 and 1.0) in 'x10' Slider component\n",
    "\t\tx11,\t# float (numeric value between 0.0 and 1.0) in 'x11' Slider component\n",
    "\t\tx12,\t# float (numeric value between 0.0 and 1.0) in 'x12' Slider component\n",
    "\t\tx13,\t# float (numeric value between 0.0 and 1.0) in 'x13' Slider component\n",
    "\t\tx14,\t# float (numeric value between 0.0 and 1.0) in 'x14' Slider component\n",
    "\t\tx15,\t# float (numeric value between 0.0 and 1.0) in 'x15' Slider component\n",
    "\t\tx16,\t# float (numeric value between 0.0 and 1.0) in 'x16' Slider component\n",
    "\t\tx17,\t# float (numeric value between 0.0 and 1.0) in 'x17' Slider component\n",
    "\t\tx18,\t# float (numeric value between 0.0 and 1.0) in 'x18' Slider component\n",
    "\t\tx19,\t# float (numeric value between 0.0 and 1.0) in 'x19' Slider component\n",
    "\t\tx20,\t# float (numeric value between 0.0 and 1.0) in 'x20' Slider component\n",
    "\t\tc1,\t# Literal['c1_0', 'c1_1'] in 'c1' Radio component\n",
    "\t\tc2,\t# Literal['c2_0', 'c2_1'] in 'c2' Radio component\n",
    "\t\tc3,\t# Literal['c3_0', 'c3_1', 'c3_2'] in 'c3' Radio component\n",
    "\t\t0.5,\t# float (numeric value between 0.0 and 1.0) in 'fidelity1' Slider component\n",
    "\t\tapi_name=\"/predict\",\n",
    "    )\n",
    "    return result['data'][0][0]\t\t\t# return y1 value only \n",
    "\n",
    "# Adv Opt function for y2\n",
    "def adv_opt_y2(x1, x2, x3, x4, x5, x6, x7, x8, x9, x10, x11, x12, x13, x14, x15, x16, x17, x18, x19, x20, c1, c2, c3): \n",
    "    result = client.predict(\n",
    "        x1, # float (numeric value between 0.0 and 1.0) in 'x1' Slider component\n",
    "\t\tx2,\t# float (numeric value between 0.0 and 1.0)\tin 'x2' Slider component\n",
    "\t\tx3,\t# float (numeric value between 0.0 and 1.0) in 'x3' Slider component\n",
    "\t\tx4,\t# float (numeric value between 0.0 and 1.0) in 'x4' Slider component\n",
    "\t\tx5,\t# float (numeric value between 0.0 and 1.0) in 'x5' Slider component\n",
    "\t\tx6,\t# float (numeric value between 0.0 and 1.0) in 'x6' Slider component\n",
    "\t\tx7,\t# float (numeric value between 0.0 and 1.0) in 'x7' Slider component\n",
    "\t\tx8,\t# float (numeric value between 0.0 and 1.0) in 'x8' Slider component\n",
    "\t\tx9,\t# float (numeric value between 0.0 and 1.0) in 'x9' Slider component\n",
    "\t\tx10,\t# float (numeric value between 0.0 and 1.0) in 'x10' Slider component\n",
    "\t\tx11,\t# float (numeric value between 0.0 and 1.0) in 'x11' Slider component\n",
    "\t\tx12,\t# float (numeric value between 0.0 and 1.0) in 'x12' Slider component\n",
    "\t\tx13,\t# float (numeric value between 0.0 and 1.0) in 'x13' Slider component\n",
    "\t\tx14,\t# float (numeric value between 0.0 and 1.0) in 'x14' Slider component\n",
    "\t\tx15,\t# float (numeric value between 0.0 and 1.0) in 'x15' Slider component\n",
    "\t\tx16,\t# float (numeric value between 0.0 and 1.0) in 'x16' Slider component\n",
    "\t\tx17,\t# float (numeric value between 0.0 and 1.0) in 'x17' Slider component\n",
    "\t\tx18,\t# float (numeric value between 0.0 and 1.0) in 'x18' Slider component\n",
    "\t\tx19,\t# float (numeric value between 0.0 and 1.0) in 'x19' Slider component\n",
    "\t\tx20,\t# float (numeric value between 0.0 and 1.0) in 'x20' Slider component\n",
    "\t\tc1,\t# Literal['c1_0', 'c1_1'] in 'c1' Radio component\n",
    "\t\tc2,\t# Literal['c2_0', 'c2_1'] in 'c2' Radio component\n",
    "\t\tc3,\t# Literal['c3_0', 'c3_1', 'c3_2'] in 'c3' Radio component\n",
    "\t\t0.5,\t# float (numeric value between 0.0 and 1.0) in 'fidelity1' Slider component\n",
    "\t\tapi_name=\"/predict\",\n",
    "    )\n",
    "    return result['data'][0][1]\t\t\t# return y2 value only"
   ]
  },
  {
   "cell_type": "code",
   "execution_count": 4,
   "metadata": {},
   "outputs": [],
   "source": [
    "set_seeds()"
   ]
  },
  {
   "cell_type": "code",
   "execution_count": 5,
   "metadata": {},
   "outputs": [
    {
     "name": "stderr",
     "output_type": "stream",
     "text": [
      "[WARNING 08-26 15:52:56] ax.service.ax_client: Random seed set to 42. Note that this setting only affects the Sobol quasi-random generator and BoTorch-powered Bayesian optimization models. For the latter models, setting random seed to the same number for two optimizations will make the generated trials similar, but not exactly the same, and over time the trials will diverge more.\n",
      "[INFO 08-26 15:52:56] ax.service.utils.instantiation: Inferred value type of ParameterType.FLOAT for parameter x1. If that is not the expected value type, you can explicitly specify 'value_type' ('int', 'float', 'bool' or 'str') in parameter dict.\n",
      "[INFO 08-26 15:52:56] ax.service.utils.instantiation: Inferred value type of ParameterType.FLOAT for parameter x2. If that is not the expected value type, you can explicitly specify 'value_type' ('int', 'float', 'bool' or 'str') in parameter dict.\n",
      "[INFO 08-26 15:52:56] ax.service.utils.instantiation: Inferred value type of ParameterType.FLOAT for parameter x3. If that is not the expected value type, you can explicitly specify 'value_type' ('int', 'float', 'bool' or 'str') in parameter dict.\n",
      "[INFO 08-26 15:52:56] ax.service.utils.instantiation: Inferred value type of ParameterType.FLOAT for parameter x4. If that is not the expected value type, you can explicitly specify 'value_type' ('int', 'float', 'bool' or 'str') in parameter dict.\n",
      "[INFO 08-26 15:52:56] ax.service.utils.instantiation: Inferred value type of ParameterType.FLOAT for parameter x5. If that is not the expected value type, you can explicitly specify 'value_type' ('int', 'float', 'bool' or 'str') in parameter dict.\n",
      "[INFO 08-26 15:52:56] ax.service.utils.instantiation: Inferred value type of ParameterType.FLOAT for parameter x6. If that is not the expected value type, you can explicitly specify 'value_type' ('int', 'float', 'bool' or 'str') in parameter dict.\n",
      "[INFO 08-26 15:52:56] ax.service.utils.instantiation: Inferred value type of ParameterType.FLOAT for parameter x7. If that is not the expected value type, you can explicitly specify 'value_type' ('int', 'float', 'bool' or 'str') in parameter dict.\n",
      "[INFO 08-26 15:52:56] ax.service.utils.instantiation: Inferred value type of ParameterType.FLOAT for parameter x8. If that is not the expected value type, you can explicitly specify 'value_type' ('int', 'float', 'bool' or 'str') in parameter dict.\n",
      "[INFO 08-26 15:52:56] ax.service.utils.instantiation: Inferred value type of ParameterType.FLOAT for parameter x9. If that is not the expected value type, you can explicitly specify 'value_type' ('int', 'float', 'bool' or 'str') in parameter dict.\n",
      "[INFO 08-26 15:52:56] ax.service.utils.instantiation: Inferred value type of ParameterType.FLOAT for parameter x10. If that is not the expected value type, you can explicitly specify 'value_type' ('int', 'float', 'bool' or 'str') in parameter dict.\n",
      "[INFO 08-26 15:52:56] ax.service.utils.instantiation: Inferred value type of ParameterType.FLOAT for parameter x11. If that is not the expected value type, you can explicitly specify 'value_type' ('int', 'float', 'bool' or 'str') in parameter dict.\n",
      "[INFO 08-26 15:52:56] ax.service.utils.instantiation: Inferred value type of ParameterType.FLOAT for parameter x12. If that is not the expected value type, you can explicitly specify 'value_type' ('int', 'float', 'bool' or 'str') in parameter dict.\n",
      "[INFO 08-26 15:52:56] ax.service.utils.instantiation: Inferred value type of ParameterType.FLOAT for parameter x13. If that is not the expected value type, you can explicitly specify 'value_type' ('int', 'float', 'bool' or 'str') in parameter dict.\n",
      "[INFO 08-26 15:52:56] ax.service.utils.instantiation: Inferred value type of ParameterType.FLOAT for parameter x14. If that is not the expected value type, you can explicitly specify 'value_type' ('int', 'float', 'bool' or 'str') in parameter dict.\n",
      "[INFO 08-26 15:52:56] ax.service.utils.instantiation: Inferred value type of ParameterType.FLOAT for parameter x15. If that is not the expected value type, you can explicitly specify 'value_type' ('int', 'float', 'bool' or 'str') in parameter dict.\n",
      "[INFO 08-26 15:52:56] ax.service.utils.instantiation: Inferred value type of ParameterType.FLOAT for parameter x16. If that is not the expected value type, you can explicitly specify 'value_type' ('int', 'float', 'bool' or 'str') in parameter dict.\n",
      "[INFO 08-26 15:52:56] ax.service.utils.instantiation: Inferred value type of ParameterType.FLOAT for parameter x17. If that is not the expected value type, you can explicitly specify 'value_type' ('int', 'float', 'bool' or 'str') in parameter dict.\n",
      "[INFO 08-26 15:52:56] ax.service.utils.instantiation: Inferred value type of ParameterType.FLOAT for parameter x18. If that is not the expected value type, you can explicitly specify 'value_type' ('int', 'float', 'bool' or 'str') in parameter dict.\n",
      "[INFO 08-26 15:52:56] ax.service.utils.instantiation: Inferred value type of ParameterType.FLOAT for parameter x19. If that is not the expected value type, you can explicitly specify 'value_type' ('int', 'float', 'bool' or 'str') in parameter dict.\n",
      "[INFO 08-26 15:52:56] ax.service.utils.instantiation: Inferred value type of ParameterType.FLOAT for parameter x20. If that is not the expected value type, you can explicitly specify 'value_type' ('int', 'float', 'bool' or 'str') in parameter dict.\n",
      "[INFO 08-26 15:52:56] ax.service.utils.instantiation: Inferred value type of ParameterType.STRING for parameter c1. If that is not the expected value type, you can explicitly specify 'value_type' ('int', 'float', 'bool' or 'str') in parameter dict.\n",
      "c:\\Users\\MF\\anaconda3\\envs\\BayBE\\lib\\site-packages\\ax\\service\\utils\\instantiation.py:244: AxParameterWarning: `sort_values` is not specified for `ChoiceParameter` \"c1\". Defaulting to `False` for parameters of `ParameterType` STRING. To override this behavior (or avoid this warning), specify `sort_values` during `ChoiceParameter` construction.\n",
      "  return ChoiceParameter(\n",
      "[INFO 08-26 15:52:56] ax.service.utils.instantiation: Inferred value type of ParameterType.STRING for parameter c2. If that is not the expected value type, you can explicitly specify 'value_type' ('int', 'float', 'bool' or 'str') in parameter dict.\n",
      "c:\\Users\\MF\\anaconda3\\envs\\BayBE\\lib\\site-packages\\ax\\service\\utils\\instantiation.py:244: AxParameterWarning: `sort_values` is not specified for `ChoiceParameter` \"c2\". Defaulting to `False` for parameters of `ParameterType` STRING. To override this behavior (or avoid this warning), specify `sort_values` during `ChoiceParameter` construction.\n",
      "  return ChoiceParameter(\n",
      "[INFO 08-26 15:52:56] ax.service.utils.instantiation: Inferred value type of ParameterType.STRING for parameter c3. If that is not the expected value type, you can explicitly specify 'value_type' ('int', 'float', 'bool' or 'str') in parameter dict.\n",
      "c:\\Users\\MF\\anaconda3\\envs\\BayBE\\lib\\site-packages\\ax\\service\\utils\\instantiation.py:244: AxParameterWarning: `sort_values` is not specified for `ChoiceParameter` \"c3\". Defaulting to `False` for parameters of `ParameterType` STRING. To override this behavior (or avoid this warning), specify `sort_values` during `ChoiceParameter` construction.\n",
      "  return ChoiceParameter(\n",
      "[INFO 08-26 15:52:56] ax.service.utils.instantiation: Inferred value type of ParameterType.STRING for parameter Task. If that is not the expected value type, you can explicitly specify 'value_type' ('int', 'float', 'bool' or 'str') in parameter dict.\n",
      "c:\\Users\\MF\\anaconda3\\envs\\BayBE\\lib\\site-packages\\ax\\service\\utils\\instantiation.py:244: AxParameterWarning: `is_ordered` is not specified for `ChoiceParameter` \"Task\". Defaulting to `False` for parameters of `ParameterType` STRING. To override this behavior (or avoid this warning), specify `is_ordered` during `ChoiceParameter` construction.\n",
      "  return ChoiceParameter(\n",
      "c:\\Users\\MF\\anaconda3\\envs\\BayBE\\lib\\site-packages\\ax\\service\\utils\\instantiation.py:244: AxParameterWarning: `sort_values` is not specified for `ChoiceParameter` \"Task\". Defaulting to `False` for parameters of `ParameterType` STRING. To override this behavior (or avoid this warning), specify `sort_values` during `ChoiceParameter` construction.\n",
      "  return ChoiceParameter(\n",
      "[INFO 08-26 15:52:56] ax.service.utils.instantiation: Created search space: SearchSpace(parameters=[RangeParameter(name='x1', parameter_type=FLOAT, range=[0.0, 1.0]), RangeParameter(name='x2', parameter_type=FLOAT, range=[0.0, 1.0]), RangeParameter(name='x3', parameter_type=FLOAT, range=[0.0, 1.0]), RangeParameter(name='x4', parameter_type=FLOAT, range=[0.0, 1.0]), RangeParameter(name='x5', parameter_type=FLOAT, range=[0.0, 1.0]), RangeParameter(name='x6', parameter_type=FLOAT, range=[0.0, 1.0]), RangeParameter(name='x7', parameter_type=FLOAT, range=[0.0, 1.0]), RangeParameter(name='x8', parameter_type=FLOAT, range=[0.0, 1.0]), RangeParameter(name='x9', parameter_type=FLOAT, range=[0.0, 1.0]), RangeParameter(name='x10', parameter_type=FLOAT, range=[0.0, 1.0]), RangeParameter(name='x11', parameter_type=FLOAT, range=[0.0, 1.0]), RangeParameter(name='x12', parameter_type=FLOAT, range=[0.0, 1.0]), RangeParameter(name='x13', parameter_type=FLOAT, range=[0.0, 1.0]), RangeParameter(name='x14', parameter_type=FLOAT, range=[0.0, 1.0]), RangeParameter(name='x15', parameter_type=FLOAT, range=[0.0, 1.0]), RangeParameter(name='x16', parameter_type=FLOAT, range=[0.0, 1.0]), RangeParameter(name='x17', parameter_type=FLOAT, range=[0.0, 1.0]), RangeParameter(name='x18', parameter_type=FLOAT, range=[0.0, 1.0]), RangeParameter(name='x19', parameter_type=FLOAT, range=[0.0, 1.0]), RangeParameter(name='x20', parameter_type=FLOAT, range=[0.0, 1.0]), ChoiceParameter(name='c1', parameter_type=STRING, values=['c1_0', 'c1_1'], is_ordered=False, sort_values=False), ChoiceParameter(name='c2', parameter_type=STRING, values=['c2_0', 'c2_1'], is_ordered=False, sort_values=False), ChoiceParameter(name='c3', parameter_type=STRING, values=['c3_0', 'c3_1', 'c3_2'], is_ordered=False, sort_values=False), ChoiceParameter(name='Task', parameter_type=STRING, values=['y1', 'y2'], is_ordered=False, is_task=True, sort_values=False, target_value='y2')], parameter_constraints=[OrderConstraint(x19 <= x20), ParameterConstraint(1.0*x15 + 1.0*x6 <= 1.0)]).\n"
     ]
    }
   ],
   "source": [
    "transforms = [TaskEncode, UnitX]\n",
    "\n",
    "gs = GenerationStrategy(\n",
    "    name=\"MultiTaskOp\", \n",
    "    steps=[\n",
    "        GenerationStep(\n",
    "            model = Models.SOBOL, \n",
    "            num_trials=5,\n",
    "            model_kwargs={\"deduplicate\": \"True\", \"transforms\": transforms},\n",
    "        ),\n",
    "        GenerationStep(\n",
    "            model = Models.BOTORCH_MODULAR,\n",
    "            num_trials=-1, \n",
    "            model_kwargs={\"transforms\": transforms},\n",
    "        ),\n",
    "    ],\n",
    ")\n",
    "\n",
    "ax_client = AxClient(generation_strategy=gs, random_seed=42, verbose_logging=False)\n",
    "\n",
    "ax_client.create_experiment(\n",
    "    name = \"MultiTaskOp\", \n",
    "    parameters=[\n",
    "        {\"name\": \"x1\", \"type\": \"range\", \"bounds\": [0.0, 1.0]},\n",
    "        {\"name\": \"x2\", \"type\": \"range\", \"bounds\": [0.0, 1.0]},\n",
    "        {\"name\": \"x3\", \"type\": \"range\", \"bounds\": [0.0, 1.0]},\n",
    "        {\"name\": \"x4\", \"type\": \"range\", \"bounds\": [0.0, 1.0]},\n",
    "        {\"name\": \"x5\", \"type\": \"range\", \"bounds\": [0.0, 1.0]},\n",
    "        {\"name\": \"x6\", \"type\": \"range\", \"bounds\": [0.0, 1.0]},\n",
    "        {\"name\": \"x7\", \"type\": \"range\", \"bounds\": [0.0, 1.0]},\n",
    "        {\"name\": \"x8\", \"type\": \"range\", \"bounds\": [0.0, 1.0]},\n",
    "        {\"name\": \"x9\", \"type\": \"range\", \"bounds\": [0.0, 1.0]},\n",
    "        {\"name\": \"x10\", \"type\": \"range\", \"bounds\": [0.0, 1.0]},\n",
    "        {\"name\": \"x11\", \"type\": \"range\", \"bounds\": [0.0, 1.0]},\n",
    "        {\"name\": \"x12\", \"type\": \"range\", \"bounds\": [0.0, 1.0]},\n",
    "        {\"name\": \"x13\", \"type\": \"range\", \"bounds\": [0.0, 1.0]},\n",
    "        {\"name\": \"x14\", \"type\": \"range\", \"bounds\": [0.0, 1.0]},\n",
    "        {\"name\": \"x15\", \"type\": \"range\", \"bounds\": [0.0, 1.0]},\n",
    "        {\"name\": \"x16\", \"type\": \"range\", \"bounds\": [0.0, 1.0]},\n",
    "        {\"name\": \"x17\", \"type\": \"range\", \"bounds\": [0.0, 1.0]},\n",
    "        {\"name\": \"x18\", \"type\": \"range\", \"bounds\": [0.0, 1.0]},\n",
    "        {\"name\": \"x19\", \"type\": \"range\", \"bounds\": [0.0, 1.0]}, \n",
    "        {\"name\": \"x20\", \"type\": \"range\", \"bounds\": [0.0, 1.0]},\n",
    "        {\"name\": \"c1\", \"type\": \"choice\", \"is_ordered\": False, \"values\": [\"c1_0\", \"c1_1\"]},\n",
    "        {\"name\": \"c2\", \"type\": \"choice\", \"is_ordered\": False, \"values\": [\"c2_0\", \"c2_1\"]},\n",
    "        {\"name\": \"c3\", \"type\": \"choice\", \"is_ordered\": False, \"values\": [\"c3_0\", \"c3_1\", \"c3_2\"]},\n",
    "        {\"name\": \"Task\", \"type\": \"choice\", \"values\": [\"y1\", \"y2\"], \"is_task\": True, \"target_value\": \"y2\"},\n",
    "    ],\n",
    "    parameter_constraints=[\n",
    "        \"x19 <= x20\",\n",
    "        \"x6 + x15 <= 1.0\",\n",
    "    ],\n",
    "    objectives={\n",
    "        \"Objective\": ObjectiveProperties(minimize=False),\n",
    "    },\n",
    "    # overwrite_existing_experiment=True,\n",
    "    # is_test=True,\n",
    ")"
   ]
  },
  {
   "cell_type": "code",
   "execution_count": 6,
   "metadata": {},
   "outputs": [],
   "source": [
    "# # follow the set up here: https://github.com/facebook/Ax/issues/2546\n",
    "# def evaluate(parameterization):\n",
    "#     if parameterization.get(\"Task\") == \"y1\": \n",
    "#         value = adv_opt_y1(**parameterization)\n",
    "#     else: \n",
    "#         value = adv_opt_y2(**parameterization)\n",
    "#         return {\"Objective\": (value, None)}\n",
    "    \n",
    "# for i in range(10): \n",
    "#     trial = ax_client.experiment.new_trial(\n",
    "#         generator_run=ax_client.generation_strategy.gen(\n",
    "#             experiment=ax_client.experiment, \n",
    "#             n=1, \n",
    "#             pending_observations=ax_client._get_pending_observation_features(\n",
    "#                 experiment=ax_client.experiment\n",
    "#             ),\n",
    "#             fixed_features=ObservationFeatures(\n",
    "#                 {\"Task\": \"y1\" if i % 2 else \"y2\"}\n",
    "#             ),\n",
    "#         )\n",
    "#     )\n",
    "#     trial.mark_running(no_runner_required=True)\n",
    "#     parameterization, trial_index = not_none(trial.arm).parameters, trial.index\n",
    "#     ax_client.complete_trial(trial_index=trial_index, raw_data=evaluate(parameterization))"
   ]
  },
  {
   "cell_type": "code",
   "execution_count": 7,
   "metadata": {},
   "outputs": [
    {
     "name": "stderr",
     "output_type": "stream",
     "text": [
      "[WARNING 08-26 15:52:56] ax.utils.common.kwargs: `<class 'ax.models.random.sobol.SobolGenerator'>` expected argument `deduplicate` to be of type <class 'bool'>. Got True (type: <class 'str'>).\n"
     ]
    },
    {
     "ename": "ValueError",
     "evalue": "This generator operates on [0,1]^d. Please make use of the UnitX transform in the ModelBridge, and ensure task features are fixed.",
     "output_type": "error",
     "traceback": [
      "\u001b[1;31m---------------------------------------------------------------------------\u001b[0m",
      "\u001b[1;31mValueError\u001b[0m                                Traceback (most recent call last)",
      "Cell \u001b[1;32mIn[7], line 2\u001b[0m\n\u001b[0;32m      1\u001b[0m \u001b[38;5;28;01mfor\u001b[39;00m i \u001b[38;5;129;01min\u001b[39;00m \u001b[38;5;28mrange\u001b[39m(\u001b[38;5;241m10\u001b[39m): \n\u001b[1;32m----> 2\u001b[0m     p, trial_index \u001b[38;5;241m=\u001b[39m \u001b[43max_client\u001b[49m\u001b[38;5;241;43m.\u001b[39;49m\u001b[43mget_next_trial\u001b[49m\u001b[43m(\u001b[49m\n\u001b[0;32m      3\u001b[0m \u001b[43m        \u001b[49m\u001b[43mfixed_features\u001b[49m\u001b[43m \u001b[49m\u001b[38;5;241;43m=\u001b[39;49m\u001b[43m \u001b[49m\u001b[43mObservationFeatures\u001b[49m\u001b[43m(\u001b[49m\u001b[43m{\u001b[49m\u001b[38;5;124;43m\"\u001b[39;49m\u001b[38;5;124;43mTask\u001b[39;49m\u001b[38;5;124;43m\"\u001b[39;49m\u001b[43m:\u001b[49m\u001b[43m \u001b[49m\u001b[38;5;124;43m\"\u001b[39;49m\u001b[38;5;124;43my1\u001b[39;49m\u001b[38;5;124;43m\"\u001b[39;49m\u001b[43m \u001b[49m\u001b[38;5;28;43;01mif\u001b[39;49;00m\u001b[43m \u001b[49m\u001b[43mi\u001b[49m\u001b[43m \u001b[49m\u001b[38;5;241;43m%\u001b[39;49m\u001b[43m \u001b[49m\u001b[38;5;241;43m2\u001b[39;49m\u001b[43m \u001b[49m\u001b[38;5;28;43;01melse\u001b[39;49;00m\u001b[43m \u001b[49m\u001b[38;5;124;43m\"\u001b[39;49m\u001b[38;5;124;43my2\u001b[39;49m\u001b[38;5;124;43m\"\u001b[39;49m\u001b[43m}\u001b[49m\u001b[43m)\u001b[49m\u001b[43m,\u001b[49m\n\u001b[0;32m      4\u001b[0m \u001b[43m    \u001b[49m\u001b[43m)\u001b[49m\n\u001b[0;32m      5\u001b[0m     \u001b[38;5;28;01mif\u001b[39;00m p[\u001b[38;5;124m\"\u001b[39m\u001b[38;5;124mTask\u001b[39m\u001b[38;5;124m\"\u001b[39m] \u001b[38;5;241m==\u001b[39m \u001b[38;5;124m\"\u001b[39m\u001b[38;5;124my1\u001b[39m\u001b[38;5;124m\"\u001b[39m:\n\u001b[0;32m      6\u001b[0m         u \u001b[38;5;241m=\u001b[39m adv_opt_y1(p[\u001b[38;5;124m\"\u001b[39m\u001b[38;5;124mx1\u001b[39m\u001b[38;5;124m\"\u001b[39m], p[\u001b[38;5;124m\"\u001b[39m\u001b[38;5;124mx2\u001b[39m\u001b[38;5;124m\"\u001b[39m], p[\u001b[38;5;124m\"\u001b[39m\u001b[38;5;124mx3\u001b[39m\u001b[38;5;124m\"\u001b[39m], p[\u001b[38;5;124m\"\u001b[39m\u001b[38;5;124mx4\u001b[39m\u001b[38;5;124m\"\u001b[39m], p[\u001b[38;5;124m\"\u001b[39m\u001b[38;5;124mx5\u001b[39m\u001b[38;5;124m\"\u001b[39m], p[\u001b[38;5;124m\"\u001b[39m\u001b[38;5;124mx6\u001b[39m\u001b[38;5;124m\"\u001b[39m], p[\u001b[38;5;124m\"\u001b[39m\u001b[38;5;124mx7\u001b[39m\u001b[38;5;124m\"\u001b[39m], p[\u001b[38;5;124m\"\u001b[39m\u001b[38;5;124mx8\u001b[39m\u001b[38;5;124m\"\u001b[39m], p[\u001b[38;5;124m\"\u001b[39m\u001b[38;5;124mx9\u001b[39m\u001b[38;5;124m\"\u001b[39m], p[\u001b[38;5;124m\"\u001b[39m\u001b[38;5;124mx10\u001b[39m\u001b[38;5;124m\"\u001b[39m], p[\u001b[38;5;124m\"\u001b[39m\u001b[38;5;124mx11\u001b[39m\u001b[38;5;124m\"\u001b[39m], p[\u001b[38;5;124m\"\u001b[39m\u001b[38;5;124mx12\u001b[39m\u001b[38;5;124m\"\u001b[39m], p[\u001b[38;5;124m\"\u001b[39m\u001b[38;5;124mx13\u001b[39m\u001b[38;5;124m\"\u001b[39m], p[\u001b[38;5;124m\"\u001b[39m\u001b[38;5;124mx14\u001b[39m\u001b[38;5;124m\"\u001b[39m], p[\u001b[38;5;124m\"\u001b[39m\u001b[38;5;124mx15\u001b[39m\u001b[38;5;124m\"\u001b[39m], p[\u001b[38;5;124m\"\u001b[39m\u001b[38;5;124mx16\u001b[39m\u001b[38;5;124m\"\u001b[39m], p[\u001b[38;5;124m\"\u001b[39m\u001b[38;5;124mx17\u001b[39m\u001b[38;5;124m\"\u001b[39m], p[\u001b[38;5;124m\"\u001b[39m\u001b[38;5;124mx18\u001b[39m\u001b[38;5;124m\"\u001b[39m], p[\u001b[38;5;124m\"\u001b[39m\u001b[38;5;124mx19\u001b[39m\u001b[38;5;124m\"\u001b[39m], p[\u001b[38;5;124m\"\u001b[39m\u001b[38;5;124mx20\u001b[39m\u001b[38;5;124m\"\u001b[39m], p[\u001b[38;5;124m\"\u001b[39m\u001b[38;5;124mc1\u001b[39m\u001b[38;5;124m\"\u001b[39m], p[\u001b[38;5;124m\"\u001b[39m\u001b[38;5;124mc2\u001b[39m\u001b[38;5;124m\"\u001b[39m], p[\u001b[38;5;124m\"\u001b[39m\u001b[38;5;124mc3\u001b[39m\u001b[38;5;124m\"\u001b[39m])\n",
      "File \u001b[1;32mc:\\Users\\MF\\anaconda3\\envs\\BayBE\\lib\\site-packages\\ax\\utils\\common\\executils.py:163\u001b[0m, in \u001b[0;36mretry_on_exception.<locals>.func_wrapper.<locals>.actual_wrapper\u001b[1;34m(*args, **kwargs)\u001b[0m\n\u001b[0;32m    159\u001b[0m             wait_interval \u001b[38;5;241m=\u001b[39m \u001b[38;5;28mmin\u001b[39m(\n\u001b[0;32m    160\u001b[0m                 MAX_WAIT_SECONDS, initial_wait_seconds \u001b[38;5;241m*\u001b[39m \u001b[38;5;241m2\u001b[39m \u001b[38;5;241m*\u001b[39m\u001b[38;5;241m*\u001b[39m (i \u001b[38;5;241m-\u001b[39m \u001b[38;5;241m1\u001b[39m)\n\u001b[0;32m    161\u001b[0m             )\n\u001b[0;32m    162\u001b[0m             time\u001b[38;5;241m.\u001b[39msleep(wait_interval)\n\u001b[1;32m--> 163\u001b[0m         \u001b[38;5;28;01mreturn\u001b[39;00m func(\u001b[38;5;241m*\u001b[39margs, \u001b[38;5;241m*\u001b[39m\u001b[38;5;241m*\u001b[39mkwargs)\n\u001b[0;32m    165\u001b[0m \u001b[38;5;66;03m# If we are here, it means the retries were finished but\u001b[39;00m\n\u001b[0;32m    166\u001b[0m \u001b[38;5;66;03m# The error was suppressed. Hence return the default value provided.\u001b[39;00m\n\u001b[0;32m    167\u001b[0m \u001b[38;5;28;01mreturn\u001b[39;00m default_return_on_suppression\n",
      "File \u001b[1;32mc:\\Users\\MF\\anaconda3\\envs\\BayBE\\lib\\site-packages\\ax\\service\\ax_client.py:539\u001b[0m, in \u001b[0;36mAxClient.get_next_trial\u001b[1;34m(self, ttl_seconds, force, fixed_features)\u001b[0m\n\u001b[0;32m    535\u001b[0m         \u001b[38;5;28;01mraise\u001b[39;00m OptimizationShouldStop(message\u001b[38;5;241m=\u001b[39mglobal_stopping_message)\n\u001b[0;32m    537\u001b[0m \u001b[38;5;28;01mtry\u001b[39;00m:\n\u001b[0;32m    538\u001b[0m     trial \u001b[38;5;241m=\u001b[39m \u001b[38;5;28mself\u001b[39m\u001b[38;5;241m.\u001b[39mexperiment\u001b[38;5;241m.\u001b[39mnew_trial(\n\u001b[1;32m--> 539\u001b[0m         generator_run\u001b[38;5;241m=\u001b[39m\u001b[38;5;28;43mself\u001b[39;49m\u001b[38;5;241;43m.\u001b[39;49m\u001b[43m_gen_new_generator_run\u001b[49m\u001b[43m(\u001b[49m\n\u001b[0;32m    540\u001b[0m \u001b[43m            \u001b[49m\u001b[43mfixed_features\u001b[49m\u001b[38;5;241;43m=\u001b[39;49m\u001b[43mfixed_features\u001b[49m\n\u001b[0;32m    541\u001b[0m \u001b[43m        \u001b[49m\u001b[43m)\u001b[49m,\n\u001b[0;32m    542\u001b[0m         ttl_seconds\u001b[38;5;241m=\u001b[39mttl_seconds,\n\u001b[0;32m    543\u001b[0m     )\n\u001b[0;32m    544\u001b[0m \u001b[38;5;28;01mexcept\u001b[39;00m MaxParallelismReachedException \u001b[38;5;28;01mas\u001b[39;00m e:\n\u001b[0;32m    545\u001b[0m     \u001b[38;5;28;01mif\u001b[39;00m \u001b[38;5;28mself\u001b[39m\u001b[38;5;241m.\u001b[39m_early_stopping_strategy \u001b[38;5;129;01mis\u001b[39;00m \u001b[38;5;129;01mnot\u001b[39;00m \u001b[38;5;28;01mNone\u001b[39;00m:\n",
      "File \u001b[1;32mc:\\Users\\MF\\anaconda3\\envs\\BayBE\\lib\\site-packages\\ax\\service\\ax_client.py:1790\u001b[0m, in \u001b[0;36mAxClient._gen_new_generator_run\u001b[1;34m(self, n, fixed_features)\u001b[0m\n\u001b[0;32m   1782\u001b[0m fixed_feats \u001b[38;5;241m=\u001b[39m (\n\u001b[0;32m   1783\u001b[0m     InstantiationBase\u001b[38;5;241m.\u001b[39mmake_fixed_observation_features(\n\u001b[0;32m   1784\u001b[0m         fixed_features\u001b[38;5;241m=\u001b[39mfixed_features\n\u001b[1;32m   (...)\u001b[0m\n\u001b[0;32m   1787\u001b[0m     \u001b[38;5;28;01melse\u001b[39;00m \u001b[38;5;28;01mNone\u001b[39;00m\n\u001b[0;32m   1788\u001b[0m )\n\u001b[0;32m   1789\u001b[0m \u001b[38;5;28;01mwith\u001b[39;00m with_rng_seed(seed\u001b[38;5;241m=\u001b[39m\u001b[38;5;28mself\u001b[39m\u001b[38;5;241m.\u001b[39m_random_seed):\n\u001b[1;32m-> 1790\u001b[0m     \u001b[38;5;28;01mreturn\u001b[39;00m \u001b[43mnot_none\u001b[49m\u001b[43m(\u001b[49m\u001b[38;5;28;43mself\u001b[39;49m\u001b[38;5;241;43m.\u001b[39;49m\u001b[43mgeneration_strategy\u001b[49m\u001b[43m)\u001b[49m\u001b[38;5;241;43m.\u001b[39;49m\u001b[43mgen\u001b[49m\u001b[43m(\u001b[49m\n\u001b[0;32m   1791\u001b[0m \u001b[43m        \u001b[49m\u001b[43mexperiment\u001b[49m\u001b[38;5;241;43m=\u001b[39;49m\u001b[38;5;28;43mself\u001b[39;49m\u001b[38;5;241;43m.\u001b[39;49m\u001b[43mexperiment\u001b[49m\u001b[43m,\u001b[49m\n\u001b[0;32m   1792\u001b[0m \u001b[43m        \u001b[49m\u001b[43mn\u001b[49m\u001b[38;5;241;43m=\u001b[39;49m\u001b[43mn\u001b[49m\u001b[43m,\u001b[49m\n\u001b[0;32m   1793\u001b[0m \u001b[43m        \u001b[49m\u001b[43mpending_observations\u001b[49m\u001b[38;5;241;43m=\u001b[39;49m\u001b[38;5;28;43mself\u001b[39;49m\u001b[38;5;241;43m.\u001b[39;49m\u001b[43m_get_pending_observation_features\u001b[49m\u001b[43m(\u001b[49m\n\u001b[0;32m   1794\u001b[0m \u001b[43m            \u001b[49m\u001b[43mexperiment\u001b[49m\u001b[38;5;241;43m=\u001b[39;49m\u001b[38;5;28;43mself\u001b[39;49m\u001b[38;5;241;43m.\u001b[39;49m\u001b[43mexperiment\u001b[49m\n\u001b[0;32m   1795\u001b[0m \u001b[43m        \u001b[49m\u001b[43m)\u001b[49m\u001b[43m,\u001b[49m\n\u001b[0;32m   1796\u001b[0m \u001b[43m        \u001b[49m\u001b[43mfixed_features\u001b[49m\u001b[38;5;241;43m=\u001b[39;49m\u001b[43mfixed_feats\u001b[49m\u001b[43m,\u001b[49m\n\u001b[0;32m   1797\u001b[0m \u001b[43m    \u001b[49m\u001b[43m)\u001b[49m\n",
      "File \u001b[1;32mc:\\Users\\MF\\anaconda3\\envs\\BayBE\\lib\\site-packages\\ax\\modelbridge\\generation_strategy.py:370\u001b[0m, in \u001b[0;36mGenerationStrategy.gen\u001b[1;34m(self, experiment, data, n, pending_observations, **kwargs)\u001b[0m\n\u001b[0;32m    335\u001b[0m \u001b[38;5;28;01mdef\u001b[39;00m \u001b[38;5;21mgen\u001b[39m(\n\u001b[0;32m    336\u001b[0m     \u001b[38;5;28mself\u001b[39m,\n\u001b[0;32m    337\u001b[0m     experiment: Experiment,\n\u001b[1;32m   (...)\u001b[0m\n\u001b[0;32m    341\u001b[0m     \u001b[38;5;241m*\u001b[39m\u001b[38;5;241m*\u001b[39mkwargs: Any,\n\u001b[0;32m    342\u001b[0m ) \u001b[38;5;241m-\u001b[39m\u001b[38;5;241m>\u001b[39m GeneratorRun:\n\u001b[0;32m    343\u001b[0m \u001b[38;5;250m    \u001b[39m\u001b[38;5;124;03m\"\"\"Produce the next points in the experiment. Additional kwargs passed to\u001b[39;00m\n\u001b[0;32m    344\u001b[0m \u001b[38;5;124;03m    this method are propagated directly to the underlying model's `gen`, along\u001b[39;00m\n\u001b[0;32m    345\u001b[0m \u001b[38;5;124;03m    with the `model_gen_kwargs` set on the current generation node.\u001b[39;00m\n\u001b[1;32m   (...)\u001b[0m\n\u001b[0;32m    368\u001b[0m \u001b[38;5;124;03m            resuggesting points that are currently being evaluated.\u001b[39;00m\n\u001b[0;32m    369\u001b[0m \u001b[38;5;124;03m    \"\"\"\u001b[39;00m\n\u001b[1;32m--> 370\u001b[0m     \u001b[38;5;28;01mreturn\u001b[39;00m \u001b[38;5;28mself\u001b[39m\u001b[38;5;241m.\u001b[39m_gen_multiple(\n\u001b[0;32m    371\u001b[0m         experiment\u001b[38;5;241m=\u001b[39mexperiment,\n\u001b[0;32m    372\u001b[0m         num_generator_runs\u001b[38;5;241m=\u001b[39m\u001b[38;5;241m1\u001b[39m,\n\u001b[0;32m    373\u001b[0m         data\u001b[38;5;241m=\u001b[39mdata,\n\u001b[0;32m    374\u001b[0m         n\u001b[38;5;241m=\u001b[39mn,\n\u001b[0;32m    375\u001b[0m         pending_observations\u001b[38;5;241m=\u001b[39mpending_observations,\n\u001b[0;32m    376\u001b[0m         \u001b[38;5;241m*\u001b[39m\u001b[38;5;241m*\u001b[39mkwargs,\n\u001b[0;32m    377\u001b[0m     )[\u001b[38;5;241m0\u001b[39m]\n",
      "File \u001b[1;32mc:\\Users\\MF\\anaconda3\\envs\\BayBE\\lib\\site-packages\\ax\\modelbridge\\generation_strategy.py:683\u001b[0m, in \u001b[0;36mGenerationStrategy._gen_multiple\u001b[1;34m(self, experiment, num_generator_runs, data, n, pending_observations, **model_gen_kwargs)\u001b[0m\n\u001b[0;32m    681\u001b[0m \u001b[38;5;28;01mfor\u001b[39;00m _ \u001b[38;5;129;01min\u001b[39;00m \u001b[38;5;28mrange\u001b[39m(num_generator_runs):\n\u001b[0;32m    682\u001b[0m     \u001b[38;5;28;01mtry\u001b[39;00m:\n\u001b[1;32m--> 683\u001b[0m         generator_run \u001b[38;5;241m=\u001b[39m \u001b[38;5;28mself\u001b[39m\u001b[38;5;241m.\u001b[39m_curr\u001b[38;5;241m.\u001b[39mgen(\n\u001b[0;32m    684\u001b[0m             n\u001b[38;5;241m=\u001b[39mn,\n\u001b[0;32m    685\u001b[0m             pending_observations\u001b[38;5;241m=\u001b[39mpending_observations,\n\u001b[0;32m    686\u001b[0m             arms_by_signature_for_deduplication\u001b[38;5;241m=\u001b[39mexperiment\u001b[38;5;241m.\u001b[39marms_by_signature,\n\u001b[0;32m    687\u001b[0m             \u001b[38;5;241m*\u001b[39m\u001b[38;5;241m*\u001b[39mmodel_gen_kwargs,\n\u001b[0;32m    688\u001b[0m         )\n\u001b[0;32m    690\u001b[0m     \u001b[38;5;28;01mexcept\u001b[39;00m DataRequiredError \u001b[38;5;28;01mas\u001b[39;00m err:\n\u001b[0;32m    691\u001b[0m         \u001b[38;5;66;03m# Model needs more data, so we log the error and return\u001b[39;00m\n\u001b[0;32m    692\u001b[0m         \u001b[38;5;66;03m# as many generator runs as we were able to produce, unless\u001b[39;00m\n\u001b[0;32m    693\u001b[0m         \u001b[38;5;66;03m# no trials were produced at all (in which case its safe to raise).\u001b[39;00m\n\u001b[0;32m    694\u001b[0m         \u001b[38;5;28;01mif\u001b[39;00m \u001b[38;5;28mlen\u001b[39m(generator_runs) \u001b[38;5;241m==\u001b[39m \u001b[38;5;241m0\u001b[39m:\n",
      "File \u001b[1;32mc:\\Users\\MF\\anaconda3\\envs\\BayBE\\lib\\site-packages\\ax\\modelbridge\\generation_node.py:712\u001b[0m, in \u001b[0;36mGenerationStep.gen\u001b[1;34m(self, n, pending_observations, max_gen_draws_for_deduplication, arms_by_signature_for_deduplication, **model_gen_kwargs)\u001b[0m\n\u001b[0;32m    704\u001b[0m \u001b[38;5;28;01mdef\u001b[39;00m \u001b[38;5;21mgen\u001b[39m(\n\u001b[0;32m    705\u001b[0m     \u001b[38;5;28mself\u001b[39m,\n\u001b[0;32m    706\u001b[0m     n: Optional[\u001b[38;5;28mint\u001b[39m] \u001b[38;5;241m=\u001b[39m \u001b[38;5;28;01mNone\u001b[39;00m,\n\u001b[1;32m   (...)\u001b[0m\n\u001b[0;32m    710\u001b[0m     \u001b[38;5;241m*\u001b[39m\u001b[38;5;241m*\u001b[39mmodel_gen_kwargs: Any,\n\u001b[0;32m    711\u001b[0m ) \u001b[38;5;241m-\u001b[39m\u001b[38;5;241m>\u001b[39m GeneratorRun:\n\u001b[1;32m--> 712\u001b[0m     gr \u001b[38;5;241m=\u001b[39m \u001b[38;5;28msuper\u001b[39m()\u001b[38;5;241m.\u001b[39mgen(\n\u001b[0;32m    713\u001b[0m         n\u001b[38;5;241m=\u001b[39mn,\n\u001b[0;32m    714\u001b[0m         pending_observations\u001b[38;5;241m=\u001b[39mpending_observations,\n\u001b[0;32m    715\u001b[0m         max_gen_draws_for_deduplication\u001b[38;5;241m=\u001b[39mmax_gen_draws_for_deduplication,\n\u001b[0;32m    716\u001b[0m         arms_by_signature_for_deduplication\u001b[38;5;241m=\u001b[39marms_by_signature_for_deduplication,\n\u001b[0;32m    717\u001b[0m         \u001b[38;5;241m*\u001b[39m\u001b[38;5;241m*\u001b[39mmodel_gen_kwargs,\n\u001b[0;32m    718\u001b[0m     )\n\u001b[0;32m    719\u001b[0m     gr\u001b[38;5;241m.\u001b[39m_generation_step_index \u001b[38;5;241m=\u001b[39m \u001b[38;5;28mself\u001b[39m\u001b[38;5;241m.\u001b[39mindex\n\u001b[0;32m    720\u001b[0m     \u001b[38;5;28;01mreturn\u001b[39;00m gr\n",
      "File \u001b[1;32mc:\\Users\\MF\\anaconda3\\envs\\BayBE\\lib\\site-packages\\ax\\modelbridge\\generation_node.py:272\u001b[0m, in \u001b[0;36mGenerationNode.gen\u001b[1;34m(self, n, pending_observations, max_gen_draws_for_deduplication, arms_by_signature_for_deduplication, **model_gen_kwargs)\u001b[0m\n\u001b[0;32m    269\u001b[0m \u001b[38;5;66;03m# Keep generating until each of `generator_run.arms` is not a duplicate\u001b[39;00m\n\u001b[0;32m    270\u001b[0m \u001b[38;5;66;03m# of a previous arm, if `should_deduplicate is True`\u001b[39;00m\n\u001b[0;32m    271\u001b[0m \u001b[38;5;28;01mwhile\u001b[39;00m should_generate_run:\n\u001b[1;32m--> 272\u001b[0m     generator_run \u001b[38;5;241m=\u001b[39m \u001b[38;5;28mself\u001b[39m\u001b[38;5;241m.\u001b[39m_gen(\n\u001b[0;32m    273\u001b[0m         n\u001b[38;5;241m=\u001b[39mn,\n\u001b[0;32m    274\u001b[0m         pending_observations\u001b[38;5;241m=\u001b[39mpending_observations,\n\u001b[0;32m    275\u001b[0m         \u001b[38;5;241m*\u001b[39m\u001b[38;5;241m*\u001b[39mmodel_gen_kwargs,\n\u001b[0;32m    276\u001b[0m     )\n\u001b[0;32m    277\u001b[0m     should_generate_run \u001b[38;5;241m=\u001b[39m (\n\u001b[0;32m    278\u001b[0m         \u001b[38;5;28mself\u001b[39m\u001b[38;5;241m.\u001b[39mshould_deduplicate\n\u001b[0;32m    279\u001b[0m         \u001b[38;5;129;01mand\u001b[39;00m arms_by_signature_for_deduplication\n\u001b[1;32m   (...)\u001b[0m\n\u001b[0;32m    283\u001b[0m         )\n\u001b[0;32m    284\u001b[0m     )\n\u001b[0;32m    285\u001b[0m     n_gen_draws \u001b[38;5;241m+\u001b[39m\u001b[38;5;241m=\u001b[39m \u001b[38;5;241m1\u001b[39m\n",
      "File \u001b[1;32mc:\\Users\\MF\\anaconda3\\envs\\BayBE\\lib\\site-packages\\ax\\modelbridge\\generation_node.py:334\u001b[0m, in \u001b[0;36mGenerationNode._gen\u001b[1;34m(self, n, pending_observations, **model_gen_kwargs)\u001b[0m\n\u001b[0;32m    330\u001b[0m \u001b[38;5;28;01mif\u001b[39;00m n \u001b[38;5;129;01mis\u001b[39;00m \u001b[38;5;28;01mNone\u001b[39;00m \u001b[38;5;129;01mand\u001b[39;00m model_spec\u001b[38;5;241m.\u001b[39mmodel_gen_kwargs:\n\u001b[0;32m    331\u001b[0m     \u001b[38;5;66;03m# If `n` is not specified, ensure that the `None` value does not\u001b[39;00m\n\u001b[0;32m    332\u001b[0m     \u001b[38;5;66;03m# override the one set in `model_spec.model_gen_kwargs`.\u001b[39;00m\n\u001b[0;32m    333\u001b[0m     n \u001b[38;5;241m=\u001b[39m model_spec\u001b[38;5;241m.\u001b[39mmodel_gen_kwargs\u001b[38;5;241m.\u001b[39mget(\u001b[38;5;124m\"\u001b[39m\u001b[38;5;124mn\u001b[39m\u001b[38;5;124m\"\u001b[39m, \u001b[38;5;28;01mNone\u001b[39;00m)\n\u001b[1;32m--> 334\u001b[0m \u001b[38;5;28;01mreturn\u001b[39;00m model_spec\u001b[38;5;241m.\u001b[39mgen(\n\u001b[0;32m    335\u001b[0m     n\u001b[38;5;241m=\u001b[39mn,\n\u001b[0;32m    336\u001b[0m     \u001b[38;5;66;03m# For `pending_observations`, prefer the input to this function, as\u001b[39;00m\n\u001b[0;32m    337\u001b[0m     \u001b[38;5;66;03m# `pending_observations` are dynamic throughout the experiment and thus\u001b[39;00m\n\u001b[0;32m    338\u001b[0m     \u001b[38;5;66;03m# unlikely to be specified in `model_spec.model_gen_kwargs`.\u001b[39;00m\n\u001b[0;32m    339\u001b[0m     pending_observations\u001b[38;5;241m=\u001b[39mpending_observations,\n\u001b[0;32m    340\u001b[0m     \u001b[38;5;241m*\u001b[39m\u001b[38;5;241m*\u001b[39mmodel_gen_kwargs,\n\u001b[0;32m    341\u001b[0m )\n",
      "File \u001b[1;32mc:\\Users\\MF\\anaconda3\\envs\\BayBE\\lib\\site-packages\\ax\\modelbridge\\model_spec.py:221\u001b[0m, in \u001b[0;36mModelSpec.gen\u001b[1;34m(self, **model_gen_kwargs)\u001b[0m\n\u001b[0;32m    213\u001b[0m fitted_model \u001b[38;5;241m=\u001b[39m \u001b[38;5;28mself\u001b[39m\u001b[38;5;241m.\u001b[39mfitted_model\n\u001b[0;32m    214\u001b[0m model_gen_kwargs \u001b[38;5;241m=\u001b[39m consolidate_kwargs(\n\u001b[0;32m    215\u001b[0m     kwargs_iterable\u001b[38;5;241m=\u001b[39m[\n\u001b[0;32m    216\u001b[0m         \u001b[38;5;28mself\u001b[39m\u001b[38;5;241m.\u001b[39mmodel_gen_kwargs,\n\u001b[1;32m   (...)\u001b[0m\n\u001b[0;32m    219\u001b[0m     keywords\u001b[38;5;241m=\u001b[39mget_function_argument_names(fitted_model\u001b[38;5;241m.\u001b[39mgen),\n\u001b[0;32m    220\u001b[0m )\n\u001b[1;32m--> 221\u001b[0m \u001b[38;5;28;01mreturn\u001b[39;00m fitted_model\u001b[38;5;241m.\u001b[39mgen(\u001b[38;5;241m*\u001b[39m\u001b[38;5;241m*\u001b[39mmodel_gen_kwargs)\n",
      "File \u001b[1;32mc:\\Users\\MF\\anaconda3\\envs\\BayBE\\lib\\site-packages\\ax\\modelbridge\\base.py:786\u001b[0m, in \u001b[0;36mModelBridge.gen\u001b[1;34m(self, n, search_space, optimization_config, pending_observations, fixed_features, model_gen_options)\u001b[0m\n\u001b[0;32m    779\u001b[0m base_gen_args \u001b[38;5;241m=\u001b[39m \u001b[38;5;28mself\u001b[39m\u001b[38;5;241m.\u001b[39m_get_transformed_gen_args(\n\u001b[0;32m    780\u001b[0m     search_space\u001b[38;5;241m=\u001b[39msearch_space,\n\u001b[0;32m    781\u001b[0m     optimization_config\u001b[38;5;241m=\u001b[39moptimization_config,\n\u001b[0;32m    782\u001b[0m     pending_observations\u001b[38;5;241m=\u001b[39mpending_observations,\n\u001b[0;32m    783\u001b[0m     fixed_features\u001b[38;5;241m=\u001b[39mfixed_features,\n\u001b[0;32m    784\u001b[0m )\n\u001b[0;32m    785\u001b[0m \u001b[38;5;66;03m# Apply terminal transform and gen\u001b[39;00m\n\u001b[1;32m--> 786\u001b[0m gen_results \u001b[38;5;241m=\u001b[39m \u001b[38;5;28;43mself\u001b[39;49m\u001b[38;5;241;43m.\u001b[39;49m\u001b[43m_gen\u001b[49m\u001b[43m(\u001b[49m\n\u001b[0;32m    787\u001b[0m \u001b[43m    \u001b[49m\u001b[43mn\u001b[49m\u001b[38;5;241;43m=\u001b[39;49m\u001b[43mn\u001b[49m\u001b[43m,\u001b[49m\n\u001b[0;32m    788\u001b[0m \u001b[43m    \u001b[49m\u001b[43msearch_space\u001b[49m\u001b[38;5;241;43m=\u001b[39;49m\u001b[43mbase_gen_args\u001b[49m\u001b[38;5;241;43m.\u001b[39;49m\u001b[43msearch_space\u001b[49m\u001b[43m,\u001b[49m\n\u001b[0;32m    789\u001b[0m \u001b[43m    \u001b[49m\u001b[43moptimization_config\u001b[49m\u001b[38;5;241;43m=\u001b[39;49m\u001b[43mbase_gen_args\u001b[49m\u001b[38;5;241;43m.\u001b[39;49m\u001b[43moptimization_config\u001b[49m\u001b[43m,\u001b[49m\n\u001b[0;32m    790\u001b[0m \u001b[43m    \u001b[49m\u001b[43mpending_observations\u001b[49m\u001b[38;5;241;43m=\u001b[39;49m\u001b[43mbase_gen_args\u001b[49m\u001b[38;5;241;43m.\u001b[39;49m\u001b[43mpending_observations\u001b[49m\u001b[43m,\u001b[49m\n\u001b[0;32m    791\u001b[0m \u001b[43m    \u001b[49m\u001b[43mfixed_features\u001b[49m\u001b[38;5;241;43m=\u001b[39;49m\u001b[43mbase_gen_args\u001b[49m\u001b[38;5;241;43m.\u001b[39;49m\u001b[43mfixed_features\u001b[49m\u001b[43m,\u001b[49m\n\u001b[0;32m    792\u001b[0m \u001b[43m    \u001b[49m\u001b[43mmodel_gen_options\u001b[49m\u001b[38;5;241;43m=\u001b[39;49m\u001b[43mmodel_gen_options\u001b[49m\u001b[43m,\u001b[49m\n\u001b[0;32m    793\u001b[0m \u001b[43m\u001b[49m\u001b[43m)\u001b[49m\n\u001b[0;32m    795\u001b[0m observation_features \u001b[38;5;241m=\u001b[39m gen_results\u001b[38;5;241m.\u001b[39mobservation_features\n\u001b[0;32m    796\u001b[0m best_obsf \u001b[38;5;241m=\u001b[39m gen_results\u001b[38;5;241m.\u001b[39mbest_observation_features\n",
      "File \u001b[1;32mc:\\Users\\MF\\anaconda3\\envs\\BayBE\\lib\\site-packages\\ax\\modelbridge\\random.py:76\u001b[0m, in \u001b[0;36mRandomModelBridge._gen\u001b[1;34m(self, n, search_space, pending_observations, fixed_features, optimization_config, model_gen_options)\u001b[0m\n\u001b[0;32m     72\u001b[0m linear_constraints \u001b[38;5;241m=\u001b[39m extract_parameter_constraints(\n\u001b[0;32m     73\u001b[0m     search_space\u001b[38;5;241m.\u001b[39mparameter_constraints, \u001b[38;5;28mself\u001b[39m\u001b[38;5;241m.\u001b[39mparameters\n\u001b[0;32m     74\u001b[0m )\n\u001b[0;32m     75\u001b[0m \u001b[38;5;66;03m# Generate the candidates\u001b[39;00m\n\u001b[1;32m---> 76\u001b[0m X, w \u001b[38;5;241m=\u001b[39m \u001b[38;5;28;43mself\u001b[39;49m\u001b[38;5;241;43m.\u001b[39;49m\u001b[43mmodel\u001b[49m\u001b[38;5;241;43m.\u001b[39;49m\u001b[43mgen\u001b[49m\u001b[43m(\u001b[49m\n\u001b[0;32m     77\u001b[0m \u001b[43m    \u001b[49m\u001b[43mn\u001b[49m\u001b[38;5;241;43m=\u001b[39;49m\u001b[43mn\u001b[49m\u001b[43m,\u001b[49m\n\u001b[0;32m     78\u001b[0m \u001b[43m    \u001b[49m\u001b[43mbounds\u001b[49m\u001b[38;5;241;43m=\u001b[39;49m\u001b[43msearch_space_digest\u001b[49m\u001b[38;5;241;43m.\u001b[39;49m\u001b[43mbounds\u001b[49m\u001b[43m,\u001b[49m\n\u001b[0;32m     79\u001b[0m \u001b[43m    \u001b[49m\u001b[43mlinear_constraints\u001b[49m\u001b[38;5;241;43m=\u001b[39;49m\u001b[43mlinear_constraints\u001b[49m\u001b[43m,\u001b[49m\n\u001b[0;32m     80\u001b[0m \u001b[43m    \u001b[49m\u001b[43mfixed_features\u001b[49m\u001b[38;5;241;43m=\u001b[39;49m\u001b[43mfixed_features_dict\u001b[49m\u001b[43m,\u001b[49m\n\u001b[0;32m     81\u001b[0m \u001b[43m    \u001b[49m\u001b[43mmodel_gen_options\u001b[49m\u001b[38;5;241;43m=\u001b[39;49m\u001b[43mmodel_gen_options\u001b[49m\u001b[43m,\u001b[49m\n\u001b[0;32m     82\u001b[0m \u001b[43m    \u001b[49m\u001b[43mrounding_func\u001b[49m\u001b[38;5;241;43m=\u001b[39;49m\u001b[43mtransform_callback\u001b[49m\u001b[43m(\u001b[49m\u001b[38;5;28;43mself\u001b[39;49m\u001b[38;5;241;43m.\u001b[39;49m\u001b[43mparameters\u001b[49m\u001b[43m,\u001b[49m\u001b[43m \u001b[49m\u001b[38;5;28;43mself\u001b[39;49m\u001b[38;5;241;43m.\u001b[39;49m\u001b[43mtransforms\u001b[49m\u001b[43m)\u001b[49m\u001b[43m,\u001b[49m\n\u001b[0;32m     83\u001b[0m \u001b[43m\u001b[49m\u001b[43m)\u001b[49m\n\u001b[0;32m     84\u001b[0m observation_features \u001b[38;5;241m=\u001b[39m parse_observation_features(X, \u001b[38;5;28mself\u001b[39m\u001b[38;5;241m.\u001b[39mparameters)\n\u001b[0;32m     85\u001b[0m \u001b[38;5;28;01mreturn\u001b[39;00m GenResults(\n\u001b[0;32m     86\u001b[0m     observation_features\u001b[38;5;241m=\u001b[39mobservation_features,\n\u001b[0;32m     87\u001b[0m     weights\u001b[38;5;241m=\u001b[39mw\u001b[38;5;241m.\u001b[39mtolist(),\n\u001b[0;32m     88\u001b[0m )\n",
      "File \u001b[1;32mc:\\Users\\MF\\anaconda3\\envs\\BayBE\\lib\\site-packages\\ax\\models\\random\\sobol.py:112\u001b[0m, in \u001b[0;36mSobolGenerator.gen\u001b[1;34m(self, n, bounds, linear_constraints, fixed_features, model_gen_options, rounding_func)\u001b[0m\n\u001b[0;32m    110\u001b[0m \u001b[38;5;28;01mif\u001b[39;00m \u001b[38;5;28mlen\u001b[39m(tf_indices) \u001b[38;5;241m>\u001b[39m \u001b[38;5;241m0\u001b[39m:\n\u001b[0;32m    111\u001b[0m     \u001b[38;5;28mself\u001b[39m\u001b[38;5;241m.\u001b[39minit_engine(\u001b[38;5;28mlen\u001b[39m(tf_indices))\n\u001b[1;32m--> 112\u001b[0m points, weights \u001b[38;5;241m=\u001b[39m \u001b[38;5;28;43msuper\u001b[39;49m\u001b[43m(\u001b[49m\u001b[43m)\u001b[49m\u001b[38;5;241;43m.\u001b[39;49m\u001b[43mgen\u001b[49m\u001b[43m(\u001b[49m\n\u001b[0;32m    113\u001b[0m \u001b[43m    \u001b[49m\u001b[43mn\u001b[49m\u001b[38;5;241;43m=\u001b[39;49m\u001b[43mn\u001b[49m\u001b[43m,\u001b[49m\n\u001b[0;32m    114\u001b[0m \u001b[43m    \u001b[49m\u001b[43mbounds\u001b[49m\u001b[38;5;241;43m=\u001b[39;49m\u001b[43mbounds\u001b[49m\u001b[43m,\u001b[49m\n\u001b[0;32m    115\u001b[0m \u001b[43m    \u001b[49m\u001b[43mlinear_constraints\u001b[49m\u001b[38;5;241;43m=\u001b[39;49m\u001b[43mlinear_constraints\u001b[49m\u001b[43m,\u001b[49m\n\u001b[0;32m    116\u001b[0m \u001b[43m    \u001b[49m\u001b[43mfixed_features\u001b[49m\u001b[38;5;241;43m=\u001b[39;49m\u001b[43mfixed_features\u001b[49m\u001b[43m,\u001b[49m\n\u001b[0;32m    117\u001b[0m \u001b[43m    \u001b[49m\u001b[43mmodel_gen_options\u001b[49m\u001b[38;5;241;43m=\u001b[39;49m\u001b[43mmodel_gen_options\u001b[49m\u001b[43m,\u001b[49m\n\u001b[0;32m    118\u001b[0m \u001b[43m    \u001b[49m\u001b[43mrounding_func\u001b[49m\u001b[38;5;241;43m=\u001b[39;49m\u001b[43mrounding_func\u001b[49m\u001b[43m,\u001b[49m\n\u001b[0;32m    119\u001b[0m \u001b[43m\u001b[49m\u001b[43m)\u001b[49m\n\u001b[0;32m    120\u001b[0m \u001b[38;5;28;01mif\u001b[39;00m \u001b[38;5;28mself\u001b[39m\u001b[38;5;241m.\u001b[39mengine:\n\u001b[0;32m    121\u001b[0m     \u001b[38;5;28mself\u001b[39m\u001b[38;5;241m.\u001b[39minit_position \u001b[38;5;241m=\u001b[39m not_none(\u001b[38;5;28mself\u001b[39m\u001b[38;5;241m.\u001b[39mengine)\u001b[38;5;241m.\u001b[39mnum_generated\n",
      "File \u001b[1;32mc:\\Users\\MF\\anaconda3\\envs\\BayBE\\lib\\site-packages\\ax\\models\\random\\base.py:117\u001b[0m, in \u001b[0;36mRandomModel.gen\u001b[1;34m(self, n, bounds, linear_constraints, fixed_features, model_gen_options, rounding_func)\u001b[0m\n\u001b[0;32m    114\u001b[0m \u001b[38;5;28;01melse\u001b[39;00m:\n\u001b[0;32m    115\u001b[0m     fixed_feature_indices \u001b[38;5;241m=\u001b[39m np\u001b[38;5;241m.\u001b[39marray([])\n\u001b[1;32m--> 117\u001b[0m \u001b[43mvalidate_bounds\u001b[49m\u001b[43m(\u001b[49m\u001b[43mbounds\u001b[49m\u001b[38;5;241;43m=\u001b[39;49m\u001b[43mbounds\u001b[49m\u001b[43m,\u001b[49m\u001b[43m \u001b[49m\u001b[43mfixed_feature_indices\u001b[49m\u001b[38;5;241;43m=\u001b[39;49m\u001b[43mfixed_feature_indices\u001b[49m\u001b[43m)\u001b[49m\n\u001b[0;32m    118\u001b[0m attempted_draws \u001b[38;5;241m=\u001b[39m \u001b[38;5;241m0\u001b[39m\n\u001b[0;32m    119\u001b[0m max_draws \u001b[38;5;241m=\u001b[39m \u001b[38;5;28;01mNone\u001b[39;00m\n",
      "File \u001b[1;32mc:\\Users\\MF\\anaconda3\\envs\\BayBE\\lib\\site-packages\\ax\\models\\model_utils.py:262\u001b[0m, in \u001b[0;36mvalidate_bounds\u001b[1;34m(bounds, fixed_feature_indices)\u001b[0m\n\u001b[0;32m    259\u001b[0m     \u001b[38;5;28;01mcontinue\u001b[39;00m\n\u001b[0;32m    261\u001b[0m \u001b[38;5;28;01mif\u001b[39;00m bound[\u001b[38;5;241m0\u001b[39m] \u001b[38;5;241m!=\u001b[39m \u001b[38;5;241m0\u001b[39m \u001b[38;5;129;01mor\u001b[39;00m bound[\u001b[38;5;241m1\u001b[39m] \u001b[38;5;241m!=\u001b[39m \u001b[38;5;241m1\u001b[39m:\n\u001b[1;32m--> 262\u001b[0m     \u001b[38;5;28;01mraise\u001b[39;00m \u001b[38;5;167;01mValueError\u001b[39;00m(\n\u001b[0;32m    263\u001b[0m         \u001b[38;5;124m\"\u001b[39m\u001b[38;5;124mThis generator operates on [0,1]^d. Please make use \u001b[39m\u001b[38;5;124m\"\u001b[39m\n\u001b[0;32m    264\u001b[0m         \u001b[38;5;124m\"\u001b[39m\u001b[38;5;124mof the UnitX transform in the ModelBridge, and ensure \u001b[39m\u001b[38;5;124m\"\u001b[39m\n\u001b[0;32m    265\u001b[0m         \u001b[38;5;124m\"\u001b[39m\u001b[38;5;124mtask features are fixed.\u001b[39m\u001b[38;5;124m\"\u001b[39m\n\u001b[0;32m    266\u001b[0m     )\n",
      "\u001b[1;31mValueError\u001b[0m: This generator operates on [0,1]^d. Please make use of the UnitX transform in the ModelBridge, and ensure task features are fixed."
     ]
    }
   ],
   "source": [
    "for i in range(10): \n",
    "    p, trial_index = ax_client.get_next_trial(\n",
    "        fixed_features = ObservationFeatures({\"Task\": \"y1\" if i % 2 else \"y2\"}),\n",
    "    )\n",
    "    if p[\"Task\"] == \"y1\":\n",
    "        u = adv_opt_y1(p[\"x1\"], p[\"x2\"], p[\"x3\"], p[\"x4\"], p[\"x5\"], p[\"x6\"], p[\"x7\"], p[\"x8\"], p[\"x9\"], p[\"x10\"], p[\"x11\"], p[\"x12\"], p[\"x13\"], p[\"x14\"], p[\"x15\"], p[\"x16\"], p[\"x17\"], p[\"x18\"], p[\"x19\"], p[\"x20\"], p[\"c1\"], p[\"c2\"], p[\"c3\"])\n",
    "    else: \n",
    "        u = adv_opt_y2(p[\"x1\"], p[\"x2\"], p[\"x3\"], p[\"x4\"], p[\"x5\"], p[\"x6\"], p[\"x7\"], p[\"x8\"], p[\"x9\"], p[\"x10\"], p[\"x11\"], p[\"x12\"], p[\"x13\"], p[\"x14\"], p[\"x15\"], p[\"x16\"], p[\"x17\"], p[\"x18\"], p[\"x19\"], p[\"x20\"], p[\"c1\"], p[\"c2\"], p[\"c3\"])\n",
    "    \n",
    "    ax_client.complete_trial(trial_index=trial_index, raw_data={\"Objective\": u})"
   ]
  },
  {
   "cell_type": "code",
   "execution_count": null,
   "metadata": {},
   "outputs": [],
   "source": []
  },
  {
   "cell_type": "code",
   "execution_count": null,
   "metadata": {},
   "outputs": [],
   "source": []
  }
 ],
 "metadata": {
  "kernelspec": {
   "display_name": "BayBE",
   "language": "python",
   "name": "python3"
  },
  "language_info": {
   "codemirror_mode": {
    "name": "ipython",
    "version": 3
   },
   "file_extension": ".py",
   "mimetype": "text/x-python",
   "name": "python",
   "nbconvert_exporter": "python",
   "pygments_lexer": "ipython3",
   "version": "3.10.14"
  }
 },
 "nbformat": 4,
 "nbformat_minor": 2
}
