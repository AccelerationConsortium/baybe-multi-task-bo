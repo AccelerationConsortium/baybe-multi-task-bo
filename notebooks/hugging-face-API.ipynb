{
 "cells": [
  {
   "cell_type": "markdown",
   "metadata": {},
   "source": [
    "Use the Advanced Optimization benchmark from AC hugging face (https://huggingface.co/spaces/AccelerationConsortium/crabnet-hyperparameter)\n",
    "- Optimize (minimize) y1\n",
    "    - If y1 is greater than 0.2, the result is considered \"bad\" no matter how good the other values are\n",
    "- Transfer learning: \n",
    "    - higher fidelity means more expensive computation \n",
    "    - treat fidelity1 = 0.5 as \"source' and fidelity1 = 1.0 as \"target\"\n",
    "- Multi-task: \n",
    "    - since y1 and y2 are correlated \n",
    "    - treat y1 as task1, then y2 as task 2"
   ]
  },
  {
   "cell_type": "code",
   "execution_count": 1,
   "metadata": {},
   "outputs": [
    {
     "name": "stdout",
     "output_type": "stream",
     "text": [
      "Loaded as API: https://accelerationconsortium-crabnet-hyperparameter.hf.space ✔\n"
     ]
    }
   ],
   "source": [
    "from baybe import Campaign\n",
    "from baybe.objectives import SingleTargetObjective\n",
    "from baybe.parameters import NumericalContinuousParameter, CategoricalParameter\n",
    "from baybe.searchspace import SearchSpace\n",
    "from baybe.targets import NumericalTarget\n",
    "from baybe.constraints import ContinuousLinearInequalityConstraint\n",
    "import numpy as np\n",
    "import pandas as pd\n",
    "import torch\n",
    "# load the Advanced Optimization from AC huggingface\n",
    "from gradio_client import Client\n",
    "client = Client(\"AccelerationConsortium/crabnet-hyperparameter\")"
   ]
  },
  {
   "cell_type": "code",
   "execution_count": 2,
   "metadata": {},
   "outputs": [],
   "source": [
    "# define the function \n",
    "# def adv_opt(x1, x2, x3, x4, x5, x6, x7, x8, x9, x10, x11, x12, x13, x14, x15, x16, x17, x18, x19, x20, c1, c2, c3): \n",
    "#     result = client.predict(\n",
    "#         x1, # float (numeric value between 0.0 and 1.0) in 'x1' Slider component\n",
    "# \t\tx2,\t# float (numeric value between 0.0 and 1.0)\tin 'x2' Slider component\n",
    "# \t\tx3,\t# float (numeric value between 0.0 and 1.0) in 'x3' Slider component\n",
    "# \t\tx4,\t# float (numeric value between 0.0 and 1.0) in 'x4' Slider component\n",
    "# \t\tx5,\t# float (numeric value between 0.0 and 1.0) in 'x5' Slider component\n",
    "# \t\tx6,\t# float (numeric value between 0.0 and 1.0) in 'x6' Slider component\n",
    "# \t\tx7,\t# float (numeric value between 0.0 and 1.0) in 'x7' Slider component\n",
    "# \t\tx8,\t# float (numeric value between 0.0 and 1.0) in 'x8' Slider component\n",
    "# \t\tx9,\t# float (numeric value between 0.0 and 1.0) in 'x9' Slider component\n",
    "# \t\tx10,\t# float (numeric value between 0.0 and 1.0) in 'x10' Slider component\n",
    "# \t\tx11,\t# float (numeric value between 0.0 and 1.0) in 'x11' Slider component\n",
    "# \t\tx12,\t# float (numeric value between 0.0 and 1.0000000000000002) in 'x12' Slider component\n",
    "# \t\tx13,\t# float (numeric value between 0.0 and 1.0) in 'x13' Slider component\n",
    "# \t\tx14,\t# float (numeric value between 0.0 and 1.0) in 'x14' Slider component\n",
    "# \t\tx15,\t# float (numeric value between 0.0 and 1.0) in 'x15' Slider component\n",
    "# \t\tx16,\t# float (numeric value between 0.0 and 1.0) in 'x16' Slider component\n",
    "# \t\tx17,\t# float (numeric value between 0.0 and 1.0) in 'x17' Slider component\n",
    "# \t\tx18,\t# float (numeric value between 0.0 and 1.0) in 'x18' Slider component\n",
    "# \t\tx19,\t# float (numeric value between 0.0 and 0.9999999999999998) in 'x19' Slider component\n",
    "# \t\tx20,\t# float (numeric value between 0.0 and 0.9999999999999998) in 'x20' Slider component\n",
    "# \t\tc1,\t# Literal['c1_0', 'c1_1'] in 'c1' Radio component\n",
    "# \t\tc2,\t# Literal['c2_0', 'c2_1'] in 'c2' Radio component\n",
    "# \t\tc3,\t# Literal['c3_0', 'c3_1', 'c3_2'] in 'c3' Radio component\n",
    "# \t\t0.5,\t# float (numeric value between 0.0 and 1.0) in 'fidelity1' Slider component\n",
    "# \t\tapi_name=\"/predict\",\n",
    "#     )\n",
    "#     return result['data'][0][0]\t\t\t# return y1 value only\n",
    "\n",
    "\n",
    "def adv_opt(**params):\n",
    "    result = client.predict(\n",
    "        params['x1'],  # float (numeric value between 0.0 and 1.0) in 'x1' Slider component\n",
    "        params['x2'],  # float (numeric value between 0.0 and 1.0) in 'x2' Slider component\n",
    "        params['x3'],  # float (numeric value between 0.0 and 1.0) in 'x3' Slider component\n",
    "        params['x4'],  # float (numeric value between 0.0 and 1.0) in 'x4' Slider component\n",
    "        params['x5'],  # float (numeric value between 0.0 and 1.0) in 'x5' Slider component\n",
    "        params['x6'],  # float (numeric value between 0.0 and 1.0) in 'x6' Slider component\n",
    "        params['x7'],  # float (numeric value between 0.0 and 1.0) in 'x7' Slider component\n",
    "        params['x8'],  # float (numeric value between 0.0 and 1.0) in 'x8' Slider component\n",
    "        params['x9'],  # float (numeric value between 0.0 and 1.0) in 'x9' Slider component\n",
    "        params['x10'], # float (numeric value between 0.0 and 1.0) in 'x10' Slider component\n",
    "        params['x11'], # float (numeric value between 0.0 and 1.0) in 'x11' Slider component\n",
    "        params['x12'], # float (numeric value between 0.0 and 1.0000000000000002) in 'x12' Slider component\n",
    "        params['x13'], # float (numeric value between 0.0 and 1.0) in 'x13' Slider component\n",
    "        params['x14'], # float (numeric value between 0.0 and 1.0) in 'x14' Slider component\n",
    "        params['x15'], # float (numeric value between 0.0 and 1.0) in 'x15' Slider component\n",
    "        params['x16'], # float (numeric value between 0.0 and 1.0) in 'x16' Slider component\n",
    "        params['x17'], # float (numeric value between 0.0 and 1.0) in 'x17' Slider component\n",
    "        params['x18'], # float (numeric value between 0.0 and 1.0) in 'x18' Slider component\n",
    "        params['x19'], # float (numeric value between 0.0 and 0.9999999999999998) in 'x19' Slider component\n",
    "        params['x20'], # float (numeric value between 0.0 and 0.9999999999999998) in 'x20' Slider component\n",
    "        params['c1'],  # Literal['c1_0', 'c1_1'] in 'c1' Radio component\n",
    "        params['c2'],  # Literal['c2_0', 'c2_1'] in 'c2' Radio component\n",
    "        params['c3'],  # Literal['c3_0', 'c3_1', 'c3_2'] in 'c3' Radio component\n",
    "        0.5,           # float (numeric value between 0.0 and 1.0) in 'fidelity1' Slider component\n",
    "        api_name=\"/predict\",\n",
    "    )\n",
    "    return result['data'][0][0]  # return y1 value only\n",
    "\n",
    "\n",
    "WRAPPED_FUNCTION = adv_opt"
   ]
  },
  {
   "cell_type": "code",
   "execution_count": 3,
   "metadata": {},
   "outputs": [],
   "source": [
    "# define and create the search space\n",
    "parameters = [\n",
    "    NumericalContinuousParameter(name=\"x1\", bounds=(0.0, 1.0)), \n",
    "    NumericalContinuousParameter(name=\"x2\", bounds=(0.0, 1.0)),\n",
    "    NumericalContinuousParameter(name=\"x3\", bounds=(0.0, 1.0)),\n",
    "    NumericalContinuousParameter(name=\"x4\", bounds=(0.0, 1.0)),\n",
    "    NumericalContinuousParameter(name=\"x5\", bounds=(0.0, 1.0)),\n",
    "    NumericalContinuousParameter(name=\"x6\", bounds=(0.0, 1.0)),\n",
    "    NumericalContinuousParameter(name=\"x7\", bounds=(0.0, 1.0)),\n",
    "    NumericalContinuousParameter(name=\"x8\", bounds=(0.0, 1.0)),\n",
    "    NumericalContinuousParameter(name=\"x9\", bounds=(0.0, 1.0)),\n",
    "    NumericalContinuousParameter(name=\"x10\", bounds=(0.0, 1.0)),\n",
    "    NumericalContinuousParameter(name=\"x11\", bounds=(0.0, 1.0)),\n",
    "    NumericalContinuousParameter(name=\"x12\", bounds=(0.0, 1.0000000000000002)),\n",
    "    NumericalContinuousParameter(name=\"x13\", bounds=(0.0, 1.0)),\n",
    "    NumericalContinuousParameter(name=\"x14\", bounds=(0.0, 1.0)),\n",
    "    NumericalContinuousParameter(name=\"x15\", bounds=(0.0, 1.0)),\n",
    "    NumericalContinuousParameter(name=\"x16\", bounds=(0.0, 1.0)),\n",
    "    NumericalContinuousParameter(name=\"x17\", bounds=(0.0, 1.0)),\n",
    "    NumericalContinuousParameter(name=\"x18\", bounds=(0.0, 1.0)),\n",
    "    NumericalContinuousParameter(name=\"x19\", bounds=(0.0, 0.9999999999999998)),\n",
    "    NumericalContinuousParameter(name=\"x20\", bounds=(0.0, 0.9999999999999998)),\n",
    "    CategoricalParameter(name='c1', values=['c1_0', 'c1_1'], encoding=\"OHE\"),\n",
    "    CategoricalParameter(name='c2', values=['c2_0', 'c2_1'], encoding=\"OHE\"),\n",
    "    CategoricalParameter(name='c3', values=['c3_0', 'c3_1', 'c3_2'], encoding=\"OHE\"),\n",
    "]\n",
    "\n",
    "constraints = [\n",
    "    ContinuousLinearInequalityConstraint(parameters=[\"x19\", \"x20\"], coefficients=[-1.0, 1.0], rhs=0.0),\n",
    "    ContinuousLinearInequalityConstraint(parameters=[\"x6\", \"x15\"], coefficients=[-1.0, -1.0], rhs=-1.0), \n",
    "]\n",
    "\n",
    "searchspace = SearchSpace.from_product(parameters=parameters, constraints=constraints)\n",
    "\n",
    "# define objective\n",
    "objective = SingleTargetObjective(target=NumericalTarget(name=\"Target\", mode=\"MIN\"))\n",
    "\n",
    "# create campaign\n",
    "campaign = Campaign(searchspace=searchspace, objective=objective)"
   ]
  },
  {
   "cell_type": "code",
   "execution_count": 4,
   "metadata": {},
   "outputs": [
    {
     "name": "stdout",
     "output_type": "stream",
     "text": [
      "{'c1': 'c1_0', 'c2': 'c2_1', 'c3': 'c3_0', 'x1': 0.6819717246401968, 'x2': 0.7162759562466889, 'x3': 0.013891682458476717, 'x4': 0.9549370910026038, 'x5': 0.9160224591457397, 'x6': 0.31774658135015693, 'x7': 0.8209560238739013, 'x8': 0.1429822953195338, 'x9': 0.503144136259913, 'x10': 0.571284187602213, 'x11': 0.5926502563163258, 'x12': 0.27736886720702014, 'x13': 0.24914202581152056, 'x14': 0.0359729045006697, 'x15': 0.3138924951937346, 'x16': 0.31490609990387664, 'x17': 0.5053288289414744, 'x18': 0.1287617509090324, 'x19': 0.26367133287550976, 'x20': 0.6371388784003893}\n"
     ]
    },
    {
     "name": "stderr",
     "output_type": "stream",
     "text": [
      "c:\\Users\\MF\\anaconda3\\envs\\BayBE\\lib\\site-packages\\botorch\\models\\transforms\\outcome.py:289: UserWarning: std(): degrees of freedom is <= 0. Correction should be strictly less than the reduction factor (input numel divided by output numel). (Triggered internally at ..\\aten\\src\\ATen\\native\\ReduceOps.cpp:1807.)\n",
      "  stdvs = Y.std(dim=-2, keepdim=True)\n",
      "c:\\Users\\MF\\anaconda3\\envs\\BayBE\\lib\\site-packages\\botorch\\models\\utils\\assorted.py:194: UserWarning: std(): degrees of freedom is <= 0. Correction should be strictly less than the reduction factor (input numel divided by output numel). (Triggered internally at ..\\aten\\src\\ATen\\native\\ReduceOps.cpp:1807.)\n",
      "  Ymean, Ystd = torch.mean(Y, dim=-2), torch.std(Y, dim=-2)\n"
     ]
    },
    {
     "name": "stdout",
     "output_type": "stream",
     "text": [
      "{'c1': 'c1_1', 'c2': 'c2_0', 'c3': 'c3_1', 'x1': 1.0, 'x2': 0.0, 'x3': 0.999999999998665, 'x4': 0.0, 'x5': 5.859273978338507e-13, 'x6': 0.9999999999734767, 'x7': 0.0, 'x8': 0.999999999997967, 'x9': 9.357997484945513e-10, 'x10': 0.0, 'x11': 0.9999999999994005, 'x12': 1.0000000000000002, 'x13': 0.9999999994818111, 'x14': 0.9999999744846613, 'x15': 8.772926796563261e-13, 'x16': 0.9999999999980727, 'x17': 0.9999999998727145, 'x18': 0.9999999999975427, 'x19': 0.9999999999999998, 'x20': 0.9999999999999998}\n"
     ]
    },
    {
     "ename": "AppError",
     "evalue": "The upstream Gradio app has raised an exception but has not enabled verbose error reporting. To enable, set show_error=True in launch().",
     "output_type": "error",
     "traceback": [
      "\u001b[1;31m---------------------------------------------------------------------------\u001b[0m",
      "\u001b[1;31mAppError\u001b[0m                                  Traceback (most recent call last)",
      "Cell \u001b[1;32mIn[4], line 8\u001b[0m\n\u001b[0;32m      6\u001b[0m \u001b[38;5;28;01mfor\u001b[39;00m index, row \u001b[38;5;129;01min\u001b[39;00m recommendation\u001b[38;5;241m.\u001b[39miterrows():\n\u001b[0;32m      7\u001b[0m     \u001b[38;5;28mprint\u001b[39m(row\u001b[38;5;241m.\u001b[39mto_dict())\n\u001b[1;32m----> 8\u001b[0m     target_values\u001b[38;5;241m.\u001b[39mappend(WRAPPED_FUNCTION(\u001b[38;5;241m*\u001b[39m\u001b[38;5;241m*\u001b[39mrow\u001b[38;5;241m.\u001b[39mto_dict()))\n\u001b[0;32m     10\u001b[0m recommendation[\u001b[38;5;124m\"\u001b[39m\u001b[38;5;124mTarget\u001b[39m\u001b[38;5;124m\"\u001b[39m] \u001b[38;5;241m=\u001b[39m target_values\n\u001b[0;32m     12\u001b[0m campaign\u001b[38;5;241m.\u001b[39madd_measurements(recommendation)       \n",
      "Cell \u001b[1;32mIn[2], line 34\u001b[0m, in \u001b[0;36madv_opt\u001b[1;34m(**params)\u001b[0m\n\u001b[0;32m     33\u001b[0m \u001b[38;5;28;01mdef\u001b[39;00m \u001b[38;5;21madv_opt\u001b[39m(\u001b[38;5;241m*\u001b[39m\u001b[38;5;241m*\u001b[39mparams):\n\u001b[1;32m---> 34\u001b[0m     result \u001b[38;5;241m=\u001b[39m \u001b[43mclient\u001b[49m\u001b[38;5;241;43m.\u001b[39;49m\u001b[43mpredict\u001b[49m\u001b[43m(\u001b[49m\n\u001b[0;32m     35\u001b[0m \u001b[43m        \u001b[49m\u001b[43mparams\u001b[49m\u001b[43m[\u001b[49m\u001b[38;5;124;43m'\u001b[39;49m\u001b[38;5;124;43mx1\u001b[39;49m\u001b[38;5;124;43m'\u001b[39;49m\u001b[43m]\u001b[49m\u001b[43m,\u001b[49m\u001b[43m  \u001b[49m\u001b[38;5;66;43;03m# float (numeric value between 0.0 and 1.0) in 'x1' Slider component\u001b[39;49;00m\n\u001b[0;32m     36\u001b[0m \u001b[43m        \u001b[49m\u001b[43mparams\u001b[49m\u001b[43m[\u001b[49m\u001b[38;5;124;43m'\u001b[39;49m\u001b[38;5;124;43mx2\u001b[39;49m\u001b[38;5;124;43m'\u001b[39;49m\u001b[43m]\u001b[49m\u001b[43m,\u001b[49m\u001b[43m  \u001b[49m\u001b[38;5;66;43;03m# float (numeric value between 0.0 and 1.0) in 'x2' Slider component\u001b[39;49;00m\n\u001b[0;32m     37\u001b[0m \u001b[43m        \u001b[49m\u001b[43mparams\u001b[49m\u001b[43m[\u001b[49m\u001b[38;5;124;43m'\u001b[39;49m\u001b[38;5;124;43mx3\u001b[39;49m\u001b[38;5;124;43m'\u001b[39;49m\u001b[43m]\u001b[49m\u001b[43m,\u001b[49m\u001b[43m  \u001b[49m\u001b[38;5;66;43;03m# float (numeric value between 0.0 and 1.0) in 'x3' Slider component\u001b[39;49;00m\n\u001b[0;32m     38\u001b[0m \u001b[43m        \u001b[49m\u001b[43mparams\u001b[49m\u001b[43m[\u001b[49m\u001b[38;5;124;43m'\u001b[39;49m\u001b[38;5;124;43mx4\u001b[39;49m\u001b[38;5;124;43m'\u001b[39;49m\u001b[43m]\u001b[49m\u001b[43m,\u001b[49m\u001b[43m  \u001b[49m\u001b[38;5;66;43;03m# float (numeric value between 0.0 and 1.0) in 'x4' Slider component\u001b[39;49;00m\n\u001b[0;32m     39\u001b[0m \u001b[43m        \u001b[49m\u001b[43mparams\u001b[49m\u001b[43m[\u001b[49m\u001b[38;5;124;43m'\u001b[39;49m\u001b[38;5;124;43mx5\u001b[39;49m\u001b[38;5;124;43m'\u001b[39;49m\u001b[43m]\u001b[49m\u001b[43m,\u001b[49m\u001b[43m  \u001b[49m\u001b[38;5;66;43;03m# float (numeric value between 0.0 and 1.0) in 'x5' Slider component\u001b[39;49;00m\n\u001b[0;32m     40\u001b[0m \u001b[43m        \u001b[49m\u001b[43mparams\u001b[49m\u001b[43m[\u001b[49m\u001b[38;5;124;43m'\u001b[39;49m\u001b[38;5;124;43mx6\u001b[39;49m\u001b[38;5;124;43m'\u001b[39;49m\u001b[43m]\u001b[49m\u001b[43m,\u001b[49m\u001b[43m  \u001b[49m\u001b[38;5;66;43;03m# float (numeric value between 0.0 and 1.0) in 'x6' Slider component\u001b[39;49;00m\n\u001b[0;32m     41\u001b[0m \u001b[43m        \u001b[49m\u001b[43mparams\u001b[49m\u001b[43m[\u001b[49m\u001b[38;5;124;43m'\u001b[39;49m\u001b[38;5;124;43mx7\u001b[39;49m\u001b[38;5;124;43m'\u001b[39;49m\u001b[43m]\u001b[49m\u001b[43m,\u001b[49m\u001b[43m  \u001b[49m\u001b[38;5;66;43;03m# float (numeric value between 0.0 and 1.0) in 'x7' Slider component\u001b[39;49;00m\n\u001b[0;32m     42\u001b[0m \u001b[43m        \u001b[49m\u001b[43mparams\u001b[49m\u001b[43m[\u001b[49m\u001b[38;5;124;43m'\u001b[39;49m\u001b[38;5;124;43mx8\u001b[39;49m\u001b[38;5;124;43m'\u001b[39;49m\u001b[43m]\u001b[49m\u001b[43m,\u001b[49m\u001b[43m  \u001b[49m\u001b[38;5;66;43;03m# float (numeric value between 0.0 and 1.0) in 'x8' Slider component\u001b[39;49;00m\n\u001b[0;32m     43\u001b[0m \u001b[43m        \u001b[49m\u001b[43mparams\u001b[49m\u001b[43m[\u001b[49m\u001b[38;5;124;43m'\u001b[39;49m\u001b[38;5;124;43mx9\u001b[39;49m\u001b[38;5;124;43m'\u001b[39;49m\u001b[43m]\u001b[49m\u001b[43m,\u001b[49m\u001b[43m  \u001b[49m\u001b[38;5;66;43;03m# float (numeric value between 0.0 and 1.0) in 'x9' Slider component\u001b[39;49;00m\n\u001b[0;32m     44\u001b[0m \u001b[43m        \u001b[49m\u001b[43mparams\u001b[49m\u001b[43m[\u001b[49m\u001b[38;5;124;43m'\u001b[39;49m\u001b[38;5;124;43mx10\u001b[39;49m\u001b[38;5;124;43m'\u001b[39;49m\u001b[43m]\u001b[49m\u001b[43m,\u001b[49m\u001b[43m \u001b[49m\u001b[38;5;66;43;03m# float (numeric value between 0.0 and 1.0) in 'x10' Slider component\u001b[39;49;00m\n\u001b[0;32m     45\u001b[0m \u001b[43m        \u001b[49m\u001b[43mparams\u001b[49m\u001b[43m[\u001b[49m\u001b[38;5;124;43m'\u001b[39;49m\u001b[38;5;124;43mx11\u001b[39;49m\u001b[38;5;124;43m'\u001b[39;49m\u001b[43m]\u001b[49m\u001b[43m,\u001b[49m\u001b[43m \u001b[49m\u001b[38;5;66;43;03m# float (numeric value between 0.0 and 1.0) in 'x11' Slider component\u001b[39;49;00m\n\u001b[0;32m     46\u001b[0m \u001b[43m        \u001b[49m\u001b[43mparams\u001b[49m\u001b[43m[\u001b[49m\u001b[38;5;124;43m'\u001b[39;49m\u001b[38;5;124;43mx12\u001b[39;49m\u001b[38;5;124;43m'\u001b[39;49m\u001b[43m]\u001b[49m\u001b[43m,\u001b[49m\u001b[43m \u001b[49m\u001b[38;5;66;43;03m# float (numeric value between 0.0 and 1.0000000000000002) in 'x12' Slider component\u001b[39;49;00m\n\u001b[0;32m     47\u001b[0m \u001b[43m        \u001b[49m\u001b[43mparams\u001b[49m\u001b[43m[\u001b[49m\u001b[38;5;124;43m'\u001b[39;49m\u001b[38;5;124;43mx13\u001b[39;49m\u001b[38;5;124;43m'\u001b[39;49m\u001b[43m]\u001b[49m\u001b[43m,\u001b[49m\u001b[43m \u001b[49m\u001b[38;5;66;43;03m# float (numeric value between 0.0 and 1.0) in 'x13' Slider component\u001b[39;49;00m\n\u001b[0;32m     48\u001b[0m \u001b[43m        \u001b[49m\u001b[43mparams\u001b[49m\u001b[43m[\u001b[49m\u001b[38;5;124;43m'\u001b[39;49m\u001b[38;5;124;43mx14\u001b[39;49m\u001b[38;5;124;43m'\u001b[39;49m\u001b[43m]\u001b[49m\u001b[43m,\u001b[49m\u001b[43m \u001b[49m\u001b[38;5;66;43;03m# float (numeric value between 0.0 and 1.0) in 'x14' Slider component\u001b[39;49;00m\n\u001b[0;32m     49\u001b[0m \u001b[43m        \u001b[49m\u001b[43mparams\u001b[49m\u001b[43m[\u001b[49m\u001b[38;5;124;43m'\u001b[39;49m\u001b[38;5;124;43mx15\u001b[39;49m\u001b[38;5;124;43m'\u001b[39;49m\u001b[43m]\u001b[49m\u001b[43m,\u001b[49m\u001b[43m \u001b[49m\u001b[38;5;66;43;03m# float (numeric value between 0.0 and 1.0) in 'x15' Slider component\u001b[39;49;00m\n\u001b[0;32m     50\u001b[0m \u001b[43m        \u001b[49m\u001b[43mparams\u001b[49m\u001b[43m[\u001b[49m\u001b[38;5;124;43m'\u001b[39;49m\u001b[38;5;124;43mx16\u001b[39;49m\u001b[38;5;124;43m'\u001b[39;49m\u001b[43m]\u001b[49m\u001b[43m,\u001b[49m\u001b[43m \u001b[49m\u001b[38;5;66;43;03m# float (numeric value between 0.0 and 1.0) in 'x16' Slider component\u001b[39;49;00m\n\u001b[0;32m     51\u001b[0m \u001b[43m        \u001b[49m\u001b[43mparams\u001b[49m\u001b[43m[\u001b[49m\u001b[38;5;124;43m'\u001b[39;49m\u001b[38;5;124;43mx17\u001b[39;49m\u001b[38;5;124;43m'\u001b[39;49m\u001b[43m]\u001b[49m\u001b[43m,\u001b[49m\u001b[43m \u001b[49m\u001b[38;5;66;43;03m# float (numeric value between 0.0 and 1.0) in 'x17' Slider component\u001b[39;49;00m\n\u001b[0;32m     52\u001b[0m \u001b[43m        \u001b[49m\u001b[43mparams\u001b[49m\u001b[43m[\u001b[49m\u001b[38;5;124;43m'\u001b[39;49m\u001b[38;5;124;43mx18\u001b[39;49m\u001b[38;5;124;43m'\u001b[39;49m\u001b[43m]\u001b[49m\u001b[43m,\u001b[49m\u001b[43m \u001b[49m\u001b[38;5;66;43;03m# float (numeric value between 0.0 and 1.0) in 'x18' Slider component\u001b[39;49;00m\n\u001b[0;32m     53\u001b[0m \u001b[43m        \u001b[49m\u001b[43mparams\u001b[49m\u001b[43m[\u001b[49m\u001b[38;5;124;43m'\u001b[39;49m\u001b[38;5;124;43mx19\u001b[39;49m\u001b[38;5;124;43m'\u001b[39;49m\u001b[43m]\u001b[49m\u001b[43m,\u001b[49m\u001b[43m \u001b[49m\u001b[38;5;66;43;03m# float (numeric value between 0.0 and 0.9999999999999998) in 'x19' Slider component\u001b[39;49;00m\n\u001b[0;32m     54\u001b[0m \u001b[43m        \u001b[49m\u001b[43mparams\u001b[49m\u001b[43m[\u001b[49m\u001b[38;5;124;43m'\u001b[39;49m\u001b[38;5;124;43mx20\u001b[39;49m\u001b[38;5;124;43m'\u001b[39;49m\u001b[43m]\u001b[49m\u001b[43m,\u001b[49m\u001b[43m \u001b[49m\u001b[38;5;66;43;03m# float (numeric value between 0.0 and 0.9999999999999998) in 'x20' Slider component\u001b[39;49;00m\n\u001b[0;32m     55\u001b[0m \u001b[43m        \u001b[49m\u001b[43mparams\u001b[49m\u001b[43m[\u001b[49m\u001b[38;5;124;43m'\u001b[39;49m\u001b[38;5;124;43mc1\u001b[39;49m\u001b[38;5;124;43m'\u001b[39;49m\u001b[43m]\u001b[49m\u001b[43m,\u001b[49m\u001b[43m  \u001b[49m\u001b[38;5;66;43;03m# Literal['c1_0', 'c1_1'] in 'c1' Radio component\u001b[39;49;00m\n\u001b[0;32m     56\u001b[0m \u001b[43m        \u001b[49m\u001b[43mparams\u001b[49m\u001b[43m[\u001b[49m\u001b[38;5;124;43m'\u001b[39;49m\u001b[38;5;124;43mc2\u001b[39;49m\u001b[38;5;124;43m'\u001b[39;49m\u001b[43m]\u001b[49m\u001b[43m,\u001b[49m\u001b[43m  \u001b[49m\u001b[38;5;66;43;03m# Literal['c2_0', 'c2_1'] in 'c2' Radio component\u001b[39;49;00m\n\u001b[0;32m     57\u001b[0m \u001b[43m        \u001b[49m\u001b[43mparams\u001b[49m\u001b[43m[\u001b[49m\u001b[38;5;124;43m'\u001b[39;49m\u001b[38;5;124;43mc3\u001b[39;49m\u001b[38;5;124;43m'\u001b[39;49m\u001b[43m]\u001b[49m\u001b[43m,\u001b[49m\u001b[43m  \u001b[49m\u001b[38;5;66;43;03m# Literal['c3_0', 'c3_1', 'c3_2'] in 'c3' Radio component\u001b[39;49;00m\n\u001b[0;32m     58\u001b[0m \u001b[43m        \u001b[49m\u001b[38;5;241;43m0.5\u001b[39;49m\u001b[43m,\u001b[49m\u001b[43m           \u001b[49m\u001b[38;5;66;43;03m# float (numeric value between 0.0 and 1.0) in 'fidelity1' Slider component\u001b[39;49;00m\n\u001b[0;32m     59\u001b[0m \u001b[43m        \u001b[49m\u001b[43mapi_name\u001b[49m\u001b[38;5;241;43m=\u001b[39;49m\u001b[38;5;124;43m\"\u001b[39;49m\u001b[38;5;124;43m/predict\u001b[39;49m\u001b[38;5;124;43m\"\u001b[39;49m\u001b[43m,\u001b[49m\n\u001b[0;32m     60\u001b[0m \u001b[43m    \u001b[49m\u001b[43m)\u001b[49m\n\u001b[0;32m     61\u001b[0m     \u001b[38;5;28;01mreturn\u001b[39;00m result[\u001b[38;5;124m'\u001b[39m\u001b[38;5;124mdata\u001b[39m\u001b[38;5;124m'\u001b[39m][\u001b[38;5;241m0\u001b[39m][\u001b[38;5;241m0\u001b[39m]\n",
      "File \u001b[1;32mc:\\Users\\MF\\anaconda3\\envs\\BayBE\\lib\\site-packages\\gradio_client\\client.py:468\u001b[0m, in \u001b[0;36mClient.predict\u001b[1;34m(self, api_name, fn_index, *args, **kwargs)\u001b[0m\n\u001b[0;32m    450\u001b[0m \u001b[38;5;250m\u001b[39m\u001b[38;5;124;03m\"\"\"\u001b[39;00m\n\u001b[0;32m    451\u001b[0m \u001b[38;5;124;03mCalls the Gradio API and returns the result (this is a blocking call).\u001b[39;00m\n\u001b[0;32m    452\u001b[0m \n\u001b[1;32m   (...)\u001b[0m\n\u001b[0;32m    463\u001b[0m \u001b[38;5;124;03m    >> 9.0\u001b[39;00m\n\u001b[0;32m    464\u001b[0m \u001b[38;5;124;03m\"\"\"\u001b[39;00m\n\u001b[0;32m    465\u001b[0m \u001b[38;5;28mself\u001b[39m\u001b[38;5;241m.\u001b[39m_infer_fn_index(api_name, fn_index)\n\u001b[0;32m    466\u001b[0m \u001b[38;5;28;01mreturn\u001b[39;00m \u001b[38;5;28;43mself\u001b[39;49m\u001b[38;5;241;43m.\u001b[39;49m\u001b[43msubmit\u001b[49m\u001b[43m(\u001b[49m\n\u001b[0;32m    467\u001b[0m \u001b[43m    \u001b[49m\u001b[38;5;241;43m*\u001b[39;49m\u001b[43margs\u001b[49m\u001b[43m,\u001b[49m\u001b[43m \u001b[49m\u001b[43mapi_name\u001b[49m\u001b[38;5;241;43m=\u001b[39;49m\u001b[43mapi_name\u001b[49m\u001b[43m,\u001b[49m\u001b[43m \u001b[49m\u001b[43mfn_index\u001b[49m\u001b[38;5;241;43m=\u001b[39;49m\u001b[43mfn_index\u001b[49m\u001b[43m,\u001b[49m\u001b[43m \u001b[49m\u001b[38;5;241;43m*\u001b[39;49m\u001b[38;5;241;43m*\u001b[39;49m\u001b[43mkwargs\u001b[49m\n\u001b[1;32m--> 468\u001b[0m \u001b[43m\u001b[49m\u001b[43m)\u001b[49m\u001b[38;5;241;43m.\u001b[39;49m\u001b[43mresult\u001b[49m\u001b[43m(\u001b[49m\u001b[43m)\u001b[49m\n",
      "File \u001b[1;32mc:\\Users\\MF\\anaconda3\\envs\\BayBE\\lib\\site-packages\\gradio_client\\client.py:1499\u001b[0m, in \u001b[0;36mJob.result\u001b[1;34m(self, timeout)\u001b[0m\n\u001b[0;32m   1484\u001b[0m \u001b[38;5;28;01mdef\u001b[39;00m \u001b[38;5;21mresult\u001b[39m(\u001b[38;5;28mself\u001b[39m, timeout: \u001b[38;5;28mfloat\u001b[39m \u001b[38;5;241m|\u001b[39m \u001b[38;5;28;01mNone\u001b[39;00m \u001b[38;5;241m=\u001b[39m \u001b[38;5;28;01mNone\u001b[39;00m) \u001b[38;5;241m-\u001b[39m\u001b[38;5;241m>\u001b[39m Any:\n\u001b[0;32m   1485\u001b[0m \u001b[38;5;250m    \u001b[39m\u001b[38;5;124;03m\"\"\"\u001b[39;00m\n\u001b[0;32m   1486\u001b[0m \u001b[38;5;124;03m    Return the result of the call that the future represents. Raises CancelledError: If the future was cancelled, TimeoutError: If the future didn't finish executing before the given timeout, and Exception: If the call raised then that exception will be raised.\u001b[39;00m\n\u001b[0;32m   1487\u001b[0m \n\u001b[1;32m   (...)\u001b[0m\n\u001b[0;32m   1497\u001b[0m \u001b[38;5;124;03m        >> 9\u001b[39;00m\n\u001b[0;32m   1498\u001b[0m \u001b[38;5;124;03m    \"\"\"\u001b[39;00m\n\u001b[1;32m-> 1499\u001b[0m     \u001b[38;5;28;01mreturn\u001b[39;00m \u001b[38;5;28;43msuper\u001b[39;49m\u001b[43m(\u001b[49m\u001b[43m)\u001b[49m\u001b[38;5;241;43m.\u001b[39;49m\u001b[43mresult\u001b[49m\u001b[43m(\u001b[49m\u001b[43mtimeout\u001b[49m\u001b[38;5;241;43m=\u001b[39;49m\u001b[43mtimeout\u001b[49m\u001b[43m)\u001b[49m\n",
      "File \u001b[1;32mc:\\Users\\MF\\anaconda3\\envs\\BayBE\\lib\\concurrent\\futures\\_base.py:458\u001b[0m, in \u001b[0;36mFuture.result\u001b[1;34m(self, timeout)\u001b[0m\n\u001b[0;32m    456\u001b[0m     \u001b[38;5;28;01mraise\u001b[39;00m CancelledError()\n\u001b[0;32m    457\u001b[0m \u001b[38;5;28;01melif\u001b[39;00m \u001b[38;5;28mself\u001b[39m\u001b[38;5;241m.\u001b[39m_state \u001b[38;5;241m==\u001b[39m FINISHED:\n\u001b[1;32m--> 458\u001b[0m     \u001b[38;5;28;01mreturn\u001b[39;00m \u001b[38;5;28;43mself\u001b[39;49m\u001b[38;5;241;43m.\u001b[39;49m\u001b[43m__get_result\u001b[49m\u001b[43m(\u001b[49m\u001b[43m)\u001b[49m\n\u001b[0;32m    459\u001b[0m \u001b[38;5;28;01melse\u001b[39;00m:\n\u001b[0;32m    460\u001b[0m     \u001b[38;5;28;01mraise\u001b[39;00m \u001b[38;5;167;01mTimeoutError\u001b[39;00m()\n",
      "File \u001b[1;32mc:\\Users\\MF\\anaconda3\\envs\\BayBE\\lib\\concurrent\\futures\\_base.py:403\u001b[0m, in \u001b[0;36mFuture.__get_result\u001b[1;34m(self)\u001b[0m\n\u001b[0;32m    401\u001b[0m \u001b[38;5;28;01mif\u001b[39;00m \u001b[38;5;28mself\u001b[39m\u001b[38;5;241m.\u001b[39m_exception:\n\u001b[0;32m    402\u001b[0m     \u001b[38;5;28;01mtry\u001b[39;00m:\n\u001b[1;32m--> 403\u001b[0m         \u001b[38;5;28;01mraise\u001b[39;00m \u001b[38;5;28mself\u001b[39m\u001b[38;5;241m.\u001b[39m_exception\n\u001b[0;32m    404\u001b[0m     \u001b[38;5;28;01mfinally\u001b[39;00m:\n\u001b[0;32m    405\u001b[0m         \u001b[38;5;66;03m# Break a reference cycle with the exception in self._exception\u001b[39;00m\n\u001b[0;32m    406\u001b[0m         \u001b[38;5;28mself\u001b[39m \u001b[38;5;241m=\u001b[39m \u001b[38;5;28;01mNone\u001b[39;00m\n",
      "File \u001b[1;32mc:\\Users\\MF\\anaconda3\\envs\\BayBE\\lib\\concurrent\\futures\\thread.py:58\u001b[0m, in \u001b[0;36m_WorkItem.run\u001b[1;34m(self)\u001b[0m\n\u001b[0;32m     55\u001b[0m     \u001b[38;5;28;01mreturn\u001b[39;00m\n\u001b[0;32m     57\u001b[0m \u001b[38;5;28;01mtry\u001b[39;00m:\n\u001b[1;32m---> 58\u001b[0m     result \u001b[38;5;241m=\u001b[39m \u001b[38;5;28mself\u001b[39m\u001b[38;5;241m.\u001b[39mfn(\u001b[38;5;241m*\u001b[39m\u001b[38;5;28mself\u001b[39m\u001b[38;5;241m.\u001b[39margs, \u001b[38;5;241m*\u001b[39m\u001b[38;5;241m*\u001b[39m\u001b[38;5;28mself\u001b[39m\u001b[38;5;241m.\u001b[39mkwargs)\n\u001b[0;32m     59\u001b[0m \u001b[38;5;28;01mexcept\u001b[39;00m \u001b[38;5;167;01mBaseException\u001b[39;00m \u001b[38;5;28;01mas\u001b[39;00m exc:\n\u001b[0;32m     60\u001b[0m     \u001b[38;5;28mself\u001b[39m\u001b[38;5;241m.\u001b[39mfuture\u001b[38;5;241m.\u001b[39mset_exception(exc)\n",
      "File \u001b[1;32mc:\\Users\\MF\\anaconda3\\envs\\BayBE\\lib\\site-packages\\gradio_client\\client.py:1121\u001b[0m, in \u001b[0;36mEndpoint.make_end_to_end_fn.<locals>._inner\u001b[1;34m(*data)\u001b[0m\n\u001b[0;32m   1119\u001b[0m data \u001b[38;5;241m=\u001b[39m \u001b[38;5;28mself\u001b[39m\u001b[38;5;241m.\u001b[39minsert_empty_state(\u001b[38;5;241m*\u001b[39mdata)\n\u001b[0;32m   1120\u001b[0m data \u001b[38;5;241m=\u001b[39m \u001b[38;5;28mself\u001b[39m\u001b[38;5;241m.\u001b[39mprocess_input_files(\u001b[38;5;241m*\u001b[39mdata)\n\u001b[1;32m-> 1121\u001b[0m predictions \u001b[38;5;241m=\u001b[39m \u001b[43m_predict\u001b[49m\u001b[43m(\u001b[49m\u001b[38;5;241;43m*\u001b[39;49m\u001b[43mdata\u001b[49m\u001b[43m)\u001b[49m\n\u001b[0;32m   1122\u001b[0m predictions \u001b[38;5;241m=\u001b[39m \u001b[38;5;28mself\u001b[39m\u001b[38;5;241m.\u001b[39mprocess_predictions(\u001b[38;5;241m*\u001b[39mpredictions)\n\u001b[0;32m   1124\u001b[0m \u001b[38;5;66;03m# Append final output only if not already present\u001b[39;00m\n\u001b[0;32m   1125\u001b[0m \u001b[38;5;66;03m# for consistency between generators and not generators\u001b[39;00m\n",
      "File \u001b[1;32mc:\\Users\\MF\\anaconda3\\envs\\BayBE\\lib\\site-packages\\gradio_client\\client.py:1233\u001b[0m, in \u001b[0;36mEndpoint.make_predict.<locals>._predict\u001b[1;34m(*data)\u001b[0m\n\u001b[0;32m   1231\u001b[0m \u001b[38;5;28;01mif\u001b[39;00m \u001b[38;5;124m\"\u001b[39m\u001b[38;5;124merror\u001b[39m\u001b[38;5;124m\"\u001b[39m \u001b[38;5;129;01min\u001b[39;00m result:\n\u001b[0;32m   1232\u001b[0m     \u001b[38;5;28;01mif\u001b[39;00m result[\u001b[38;5;124m\"\u001b[39m\u001b[38;5;124merror\u001b[39m\u001b[38;5;124m\"\u001b[39m] \u001b[38;5;129;01mis\u001b[39;00m \u001b[38;5;28;01mNone\u001b[39;00m:\n\u001b[1;32m-> 1233\u001b[0m         \u001b[38;5;28;01mraise\u001b[39;00m AppError(\n\u001b[0;32m   1234\u001b[0m             \u001b[38;5;124m\"\u001b[39m\u001b[38;5;124mThe upstream Gradio app has raised an exception but has not enabled \u001b[39m\u001b[38;5;124m\"\u001b[39m\n\u001b[0;32m   1235\u001b[0m             \u001b[38;5;124m\"\u001b[39m\u001b[38;5;124mverbose error reporting. To enable, set show_error=True in launch().\u001b[39m\u001b[38;5;124m\"\u001b[39m\n\u001b[0;32m   1236\u001b[0m         )\n\u001b[0;32m   1237\u001b[0m     \u001b[38;5;28;01melse\u001b[39;00m:\n\u001b[0;32m   1238\u001b[0m         \u001b[38;5;28;01mraise\u001b[39;00m AppError(\n\u001b[0;32m   1239\u001b[0m             \u001b[38;5;124m\"\u001b[39m\u001b[38;5;124mThe upstream Gradio app has raised an exception: \u001b[39m\u001b[38;5;124m\"\u001b[39m\n\u001b[0;32m   1240\u001b[0m             \u001b[38;5;241m+\u001b[39m result[\u001b[38;5;124m\"\u001b[39m\u001b[38;5;124merror\u001b[39m\u001b[38;5;124m\"\u001b[39m]\n\u001b[0;32m   1241\u001b[0m         )\n",
      "\u001b[1;31mAppError\u001b[0m: The upstream Gradio app has raised an exception but has not enabled verbose error reporting. To enable, set show_error=True in launch()."
     ]
    }
   ],
   "source": [
    "for k in range(20): \n",
    "    recommendation = campaign.recommend(batch_size=1)\n",
    "\n",
    "    # target value are looked up via the botorch wrapper\n",
    "    target_values = []\n",
    "    for index, row in recommendation.iterrows():\n",
    "        print(row.to_dict())\n",
    "        target_values.append(WRAPPED_FUNCTION(**row.to_dict()))\n",
    "\n",
    "    recommendation[\"Target\"] = target_values\n",
    "\n",
    "    campaign.add_measurements(recommendation)       \n"
   ]
  },
  {
   "cell_type": "code",
   "execution_count": null,
   "metadata": {},
   "outputs": [],
   "source": []
  },
  {
   "cell_type": "code",
   "execution_count": null,
   "metadata": {},
   "outputs": [],
   "source": []
  },
  {
   "cell_type": "code",
   "execution_count": null,
   "metadata": {},
   "outputs": [],
   "source": []
  },
  {
   "cell_type": "markdown",
   "metadata": {},
   "source": [
    "### Calling to API and make calculation"
   ]
  },
  {
   "cell_type": "code",
   "execution_count": 5,
   "metadata": {},
   "outputs": [
    {
     "data": {
      "text/plain": [
       "{'headers': ['y1', 'y2', 'y3', 'y4'],\n",
       " 'data': [[0.6187509747504929,\n",
       "   1.1785289373023509,\n",
       "   331.66459280986527,\n",
       "   9993118.024114504]],\n",
       " 'metadata': None}"
      ]
     },
     "execution_count": 5,
     "metadata": {},
     "output_type": "execute_result"
    }
   ],
   "source": [
    "result = client.predict(\n",
    "\t\t0.222,\t# float (numeric value between 0.0 and 1.0) in 'x1' Slider component\n",
    "\t\t0.5,\t# float (numeric value between 0.0 and 1.0)\tin 'x2' Slider component\n",
    "\t\t0.445,\t# float (numeric value between 0.0 and 1.0) in 'x3' Slider component\n",
    "\t\t0.1,\t# float (numeric value between 0.0 and 1.0) in 'x4' Slider component\n",
    "\t\t0.5,\t# float (numeric value between 0.0 and 1.0) in 'x5' Slider component\n",
    "\t\t0,\t# float (numeric value between 0.0 and 1.0) in 'x6' Slider component\n",
    "\t\t0,\t# float (numeric value between 0.0 and 1.0) in 'x7' Slider component\n",
    "\t\t0,\t# float (numeric value between 0.0 and 1.0) in 'x8' Slider component\n",
    "\t\t0,\t# float (numeric value between 0.0 and 1.0) in 'x9' Slider component\n",
    "\t\t0,\t# float (numeric value between 0.0 and 1.0) in 'x10' Slider component\n",
    "\t\t0,\t# float (numeric value between 0.0 and 1.0) in 'x11' Slider component\n",
    "\t\t0,\t# float (numeric value between 0.0 and 1.0000000000000002) in 'x12' Slider component\n",
    "\t\t0,\t# float (numeric value between 0.0 and 1.0) in 'x13' Slider component\n",
    "\t\t0,\t# float (numeric value between 0.0 and 1.0) in 'x14' Slider component\n",
    "\t\t0,\t# float (numeric value between 0.0 and 1.0) in 'x15' Slider component\n",
    "\t\t0,\t# float (numeric value between 0.0 and 1.0) in 'x16' Slider component\n",
    "\t\t0,\t# float (numeric value between 0.0 and 1.0) in 'x17' Slider component\n",
    "\t\t0,\t# float (numeric value between 0.0 and 1.0) in 'x18' Slider component\n",
    "\t\t0,\t# float (numeric value between 0.0 and 0.9999999999999998) in 'x19' Slider component\n",
    "\t\t0,\t# float (numeric value between 0.0 and 0.9999999999999998) in 'x20' Slider component\n",
    "\t\t\"c1_0\",\t# Literal['c1_0', 'c1_1'] in 'c1' Radio component\n",
    "\t\t\"c2_0\",\t# Literal['c2_0', 'c2_1'] in 'c2' Radio component\n",
    "\t\t\"c3_0\",\t# Literal['c3_0', 'c3_1', 'c3_2'] in 'c3' Radio component\n",
    "\t\t1.0,\t# float (numeric value between 0.0 and 1.0) in 'fidelity1' Slider component\n",
    "\t\tapi_name=\"/predict\"\n",
    ")\n",
    "result"
   ]
  },
  {
   "cell_type": "code",
   "execution_count": 7,
   "metadata": {},
   "outputs": [
    {
     "data": {
      "text/plain": [
       "0.6187509747504929"
      ]
     },
     "execution_count": 7,
     "metadata": {},
     "output_type": "execute_result"
    }
   ],
   "source": [
    "# get y1 only\n",
    "result['data'][0][0]"
   ]
  },
  {
   "cell_type": "markdown",
   "metadata": {},
   "source": [
    "### Wrap the API into a function"
   ]
  },
  {
   "cell_type": "code",
   "execution_count": 8,
   "metadata": {},
   "outputs": [
    {
     "ename": "AppError",
     "evalue": "The upstream Gradio app has raised an exception but has not enabled verbose error reporting. To enable, set show_error=True in launch().",
     "output_type": "error",
     "traceback": [
      "\u001b[1;31m---------------------------------------------------------------------------\u001b[0m",
      "\u001b[1;31mAppError\u001b[0m                                  Traceback (most recent call last)",
      "Cell \u001b[1;32mIn[8], line 2\u001b[0m\n\u001b[0;32m      1\u001b[0m paras \u001b[38;5;241m=\u001b[39m {\u001b[38;5;124m'\u001b[39m\u001b[38;5;124mc1\u001b[39m\u001b[38;5;124m'\u001b[39m: \u001b[38;5;124m'\u001b[39m\u001b[38;5;124mc1_1\u001b[39m\u001b[38;5;124m'\u001b[39m, \u001b[38;5;124m'\u001b[39m\u001b[38;5;124mc2\u001b[39m\u001b[38;5;124m'\u001b[39m: \u001b[38;5;124m'\u001b[39m\u001b[38;5;124mc2_0\u001b[39m\u001b[38;5;124m'\u001b[39m, \u001b[38;5;124m'\u001b[39m\u001b[38;5;124mc3\u001b[39m\u001b[38;5;124m'\u001b[39m: \u001b[38;5;124m'\u001b[39m\u001b[38;5;124mc3_2\u001b[39m\u001b[38;5;124m'\u001b[39m, \u001b[38;5;124m'\u001b[39m\u001b[38;5;124mx1\u001b[39m\u001b[38;5;124m'\u001b[39m: \u001b[38;5;241m0.6118901958577212\u001b[39m, \u001b[38;5;124m'\u001b[39m\u001b[38;5;124mx2\u001b[39m\u001b[38;5;124m'\u001b[39m: \u001b[38;5;241m0.4111829149245071\u001b[39m, \u001b[38;5;124m'\u001b[39m\u001b[38;5;124mx3\u001b[39m\u001b[38;5;124m'\u001b[39m: \u001b[38;5;241m0.9669932071676511\u001b[39m, \u001b[38;5;124m'\u001b[39m\u001b[38;5;124mx4\u001b[39m\u001b[38;5;124m'\u001b[39m: \u001b[38;5;241m0.4011947349568585\u001b[39m, \u001b[38;5;124m'\u001b[39m\u001b[38;5;124mx5\u001b[39m\u001b[38;5;124m'\u001b[39m: \u001b[38;5;241m0.5327450665659677\u001b[39m, \u001b[38;5;124m'\u001b[39m\u001b[38;5;124mx6\u001b[39m\u001b[38;5;124m'\u001b[39m: \u001b[38;5;241m0.21291356632372327\u001b[39m, \u001b[38;5;124m'\u001b[39m\u001b[38;5;124mx7\u001b[39m\u001b[38;5;124m'\u001b[39m: \u001b[38;5;241m0.13115749846280078\u001b[39m, \u001b[38;5;124m'\u001b[39m\u001b[38;5;124mx8\u001b[39m\u001b[38;5;124m'\u001b[39m: \u001b[38;5;241m0.3032873297687223\u001b[39m, \u001b[38;5;124m'\u001b[39m\u001b[38;5;124mx9\u001b[39m\u001b[38;5;124m'\u001b[39m: \u001b[38;5;241m0.37433820950967467\u001b[39m, \u001b[38;5;124m'\u001b[39m\u001b[38;5;124mx10\u001b[39m\u001b[38;5;124m'\u001b[39m: \u001b[38;5;241m0.6643725999349213\u001b[39m, \u001b[38;5;124m'\u001b[39m\u001b[38;5;124mx11\u001b[39m\u001b[38;5;124m'\u001b[39m: \u001b[38;5;241m0.9719434718766504\u001b[39m, \u001b[38;5;124m'\u001b[39m\u001b[38;5;124mx12\u001b[39m\u001b[38;5;124m'\u001b[39m: \u001b[38;5;241m0.20871047682655874\u001b[39m, \u001b[38;5;124m'\u001b[39m\u001b[38;5;124mx13\u001b[39m\u001b[38;5;124m'\u001b[39m: \u001b[38;5;241m0.4884984758589027\u001b[39m, \u001b[38;5;124m'\u001b[39m\u001b[38;5;124mx14\u001b[39m\u001b[38;5;124m'\u001b[39m: \u001b[38;5;241m0.5908026063989489\u001b[39m, \u001b[38;5;124m'\u001b[39m\u001b[38;5;124mx15\u001b[39m\u001b[38;5;124m'\u001b[39m: \u001b[38;5;241m0.1366531028890536\u001b[39m, \u001b[38;5;124m'\u001b[39m\u001b[38;5;124mx16\u001b[39m\u001b[38;5;124m'\u001b[39m: \u001b[38;5;241m0.7450997611208788\u001b[39m, \u001b[38;5;124m'\u001b[39m\u001b[38;5;124mx17\u001b[39m\u001b[38;5;124m'\u001b[39m: \u001b[38;5;241m0.7656059548378924\u001b[39m, \u001b[38;5;124m'\u001b[39m\u001b[38;5;124mx18\u001b[39m\u001b[38;5;124m'\u001b[39m: \u001b[38;5;241m0.8665776018638673\u001b[39m, \u001b[38;5;124m'\u001b[39m\u001b[38;5;124mx19\u001b[39m\u001b[38;5;124m'\u001b[39m: \u001b[38;5;241m0.2905417268369886\u001b[39m, \u001b[38;5;124m'\u001b[39m\u001b[38;5;124mx20\u001b[39m\u001b[38;5;124m'\u001b[39m: \u001b[38;5;241m0.8706679030815925\u001b[39m}\n\u001b[1;32m----> 2\u001b[0m adv_opt(\u001b[38;5;241m*\u001b[39m\u001b[38;5;241m*\u001b[39mparas)\n\u001b[0;32m      3\u001b[0m \u001b[38;5;66;03m# WRAPPED_FUNCTION(**paras)\u001b[39;00m\n",
      "Cell \u001b[1;32mIn[2], line 34\u001b[0m, in \u001b[0;36madv_opt\u001b[1;34m(**params)\u001b[0m\n\u001b[0;32m     33\u001b[0m \u001b[38;5;28;01mdef\u001b[39;00m \u001b[38;5;21madv_opt\u001b[39m(\u001b[38;5;241m*\u001b[39m\u001b[38;5;241m*\u001b[39mparams):\n\u001b[1;32m---> 34\u001b[0m     result \u001b[38;5;241m=\u001b[39m \u001b[43mclient\u001b[49m\u001b[38;5;241;43m.\u001b[39;49m\u001b[43mpredict\u001b[49m\u001b[43m(\u001b[49m\n\u001b[0;32m     35\u001b[0m \u001b[43m        \u001b[49m\u001b[43mparams\u001b[49m\u001b[43m[\u001b[49m\u001b[38;5;124;43m'\u001b[39;49m\u001b[38;5;124;43mx1\u001b[39;49m\u001b[38;5;124;43m'\u001b[39;49m\u001b[43m]\u001b[49m\u001b[43m,\u001b[49m\u001b[43m  \u001b[49m\u001b[38;5;66;43;03m# float (numeric value between 0.0 and 1.0) in 'x1' Slider component\u001b[39;49;00m\n\u001b[0;32m     36\u001b[0m \u001b[43m        \u001b[49m\u001b[43mparams\u001b[49m\u001b[43m[\u001b[49m\u001b[38;5;124;43m'\u001b[39;49m\u001b[38;5;124;43mx2\u001b[39;49m\u001b[38;5;124;43m'\u001b[39;49m\u001b[43m]\u001b[49m\u001b[43m,\u001b[49m\u001b[43m  \u001b[49m\u001b[38;5;66;43;03m# float (numeric value between 0.0 and 1.0) in 'x2' Slider component\u001b[39;49;00m\n\u001b[0;32m     37\u001b[0m \u001b[43m        \u001b[49m\u001b[43mparams\u001b[49m\u001b[43m[\u001b[49m\u001b[38;5;124;43m'\u001b[39;49m\u001b[38;5;124;43mx3\u001b[39;49m\u001b[38;5;124;43m'\u001b[39;49m\u001b[43m]\u001b[49m\u001b[43m,\u001b[49m\u001b[43m  \u001b[49m\u001b[38;5;66;43;03m# float (numeric value between 0.0 and 1.0) in 'x3' Slider component\u001b[39;49;00m\n\u001b[0;32m     38\u001b[0m \u001b[43m        \u001b[49m\u001b[43mparams\u001b[49m\u001b[43m[\u001b[49m\u001b[38;5;124;43m'\u001b[39;49m\u001b[38;5;124;43mx4\u001b[39;49m\u001b[38;5;124;43m'\u001b[39;49m\u001b[43m]\u001b[49m\u001b[43m,\u001b[49m\u001b[43m  \u001b[49m\u001b[38;5;66;43;03m# float (numeric value between 0.0 and 1.0) in 'x4' Slider component\u001b[39;49;00m\n\u001b[0;32m     39\u001b[0m \u001b[43m        \u001b[49m\u001b[43mparams\u001b[49m\u001b[43m[\u001b[49m\u001b[38;5;124;43m'\u001b[39;49m\u001b[38;5;124;43mx5\u001b[39;49m\u001b[38;5;124;43m'\u001b[39;49m\u001b[43m]\u001b[49m\u001b[43m,\u001b[49m\u001b[43m  \u001b[49m\u001b[38;5;66;43;03m# float (numeric value between 0.0 and 1.0) in 'x5' Slider component\u001b[39;49;00m\n\u001b[0;32m     40\u001b[0m \u001b[43m        \u001b[49m\u001b[43mparams\u001b[49m\u001b[43m[\u001b[49m\u001b[38;5;124;43m'\u001b[39;49m\u001b[38;5;124;43mx6\u001b[39;49m\u001b[38;5;124;43m'\u001b[39;49m\u001b[43m]\u001b[49m\u001b[43m,\u001b[49m\u001b[43m  \u001b[49m\u001b[38;5;66;43;03m# float (numeric value between 0.0 and 1.0) in 'x6' Slider component\u001b[39;49;00m\n\u001b[0;32m     41\u001b[0m \u001b[43m        \u001b[49m\u001b[43mparams\u001b[49m\u001b[43m[\u001b[49m\u001b[38;5;124;43m'\u001b[39;49m\u001b[38;5;124;43mx7\u001b[39;49m\u001b[38;5;124;43m'\u001b[39;49m\u001b[43m]\u001b[49m\u001b[43m,\u001b[49m\u001b[43m  \u001b[49m\u001b[38;5;66;43;03m# float (numeric value between 0.0 and 1.0) in 'x7' Slider component\u001b[39;49;00m\n\u001b[0;32m     42\u001b[0m \u001b[43m        \u001b[49m\u001b[43mparams\u001b[49m\u001b[43m[\u001b[49m\u001b[38;5;124;43m'\u001b[39;49m\u001b[38;5;124;43mx8\u001b[39;49m\u001b[38;5;124;43m'\u001b[39;49m\u001b[43m]\u001b[49m\u001b[43m,\u001b[49m\u001b[43m  \u001b[49m\u001b[38;5;66;43;03m# float (numeric value between 0.0 and 1.0) in 'x8' Slider component\u001b[39;49;00m\n\u001b[0;32m     43\u001b[0m \u001b[43m        \u001b[49m\u001b[43mparams\u001b[49m\u001b[43m[\u001b[49m\u001b[38;5;124;43m'\u001b[39;49m\u001b[38;5;124;43mx9\u001b[39;49m\u001b[38;5;124;43m'\u001b[39;49m\u001b[43m]\u001b[49m\u001b[43m,\u001b[49m\u001b[43m  \u001b[49m\u001b[38;5;66;43;03m# float (numeric value between 0.0 and 1.0) in 'x9' Slider component\u001b[39;49;00m\n\u001b[0;32m     44\u001b[0m \u001b[43m        \u001b[49m\u001b[43mparams\u001b[49m\u001b[43m[\u001b[49m\u001b[38;5;124;43m'\u001b[39;49m\u001b[38;5;124;43mx10\u001b[39;49m\u001b[38;5;124;43m'\u001b[39;49m\u001b[43m]\u001b[49m\u001b[43m,\u001b[49m\u001b[43m \u001b[49m\u001b[38;5;66;43;03m# float (numeric value between 0.0 and 1.0) in 'x10' Slider component\u001b[39;49;00m\n\u001b[0;32m     45\u001b[0m \u001b[43m        \u001b[49m\u001b[43mparams\u001b[49m\u001b[43m[\u001b[49m\u001b[38;5;124;43m'\u001b[39;49m\u001b[38;5;124;43mx11\u001b[39;49m\u001b[38;5;124;43m'\u001b[39;49m\u001b[43m]\u001b[49m\u001b[43m,\u001b[49m\u001b[43m \u001b[49m\u001b[38;5;66;43;03m# float (numeric value between 0.0 and 1.0) in 'x11' Slider component\u001b[39;49;00m\n\u001b[0;32m     46\u001b[0m \u001b[43m        \u001b[49m\u001b[43mparams\u001b[49m\u001b[43m[\u001b[49m\u001b[38;5;124;43m'\u001b[39;49m\u001b[38;5;124;43mx12\u001b[39;49m\u001b[38;5;124;43m'\u001b[39;49m\u001b[43m]\u001b[49m\u001b[43m,\u001b[49m\u001b[43m \u001b[49m\u001b[38;5;66;43;03m# float (numeric value between 0.0 and 1.0000000000000002) in 'x12' Slider component\u001b[39;49;00m\n\u001b[0;32m     47\u001b[0m \u001b[43m        \u001b[49m\u001b[43mparams\u001b[49m\u001b[43m[\u001b[49m\u001b[38;5;124;43m'\u001b[39;49m\u001b[38;5;124;43mx13\u001b[39;49m\u001b[38;5;124;43m'\u001b[39;49m\u001b[43m]\u001b[49m\u001b[43m,\u001b[49m\u001b[43m \u001b[49m\u001b[38;5;66;43;03m# float (numeric value between 0.0 and 1.0) in 'x13' Slider component\u001b[39;49;00m\n\u001b[0;32m     48\u001b[0m \u001b[43m        \u001b[49m\u001b[43mparams\u001b[49m\u001b[43m[\u001b[49m\u001b[38;5;124;43m'\u001b[39;49m\u001b[38;5;124;43mx14\u001b[39;49m\u001b[38;5;124;43m'\u001b[39;49m\u001b[43m]\u001b[49m\u001b[43m,\u001b[49m\u001b[43m \u001b[49m\u001b[38;5;66;43;03m# float (numeric value between 0.0 and 1.0) in 'x14' Slider component\u001b[39;49;00m\n\u001b[0;32m     49\u001b[0m \u001b[43m        \u001b[49m\u001b[43mparams\u001b[49m\u001b[43m[\u001b[49m\u001b[38;5;124;43m'\u001b[39;49m\u001b[38;5;124;43mx15\u001b[39;49m\u001b[38;5;124;43m'\u001b[39;49m\u001b[43m]\u001b[49m\u001b[43m,\u001b[49m\u001b[43m \u001b[49m\u001b[38;5;66;43;03m# float (numeric value between 0.0 and 1.0) in 'x15' Slider component\u001b[39;49;00m\n\u001b[0;32m     50\u001b[0m \u001b[43m        \u001b[49m\u001b[43mparams\u001b[49m\u001b[43m[\u001b[49m\u001b[38;5;124;43m'\u001b[39;49m\u001b[38;5;124;43mx16\u001b[39;49m\u001b[38;5;124;43m'\u001b[39;49m\u001b[43m]\u001b[49m\u001b[43m,\u001b[49m\u001b[43m \u001b[49m\u001b[38;5;66;43;03m# float (numeric value between 0.0 and 1.0) in 'x16' Slider component\u001b[39;49;00m\n\u001b[0;32m     51\u001b[0m \u001b[43m        \u001b[49m\u001b[43mparams\u001b[49m\u001b[43m[\u001b[49m\u001b[38;5;124;43m'\u001b[39;49m\u001b[38;5;124;43mx17\u001b[39;49m\u001b[38;5;124;43m'\u001b[39;49m\u001b[43m]\u001b[49m\u001b[43m,\u001b[49m\u001b[43m \u001b[49m\u001b[38;5;66;43;03m# float (numeric value between 0.0 and 1.0) in 'x17' Slider component\u001b[39;49;00m\n\u001b[0;32m     52\u001b[0m \u001b[43m        \u001b[49m\u001b[43mparams\u001b[49m\u001b[43m[\u001b[49m\u001b[38;5;124;43m'\u001b[39;49m\u001b[38;5;124;43mx18\u001b[39;49m\u001b[38;5;124;43m'\u001b[39;49m\u001b[43m]\u001b[49m\u001b[43m,\u001b[49m\u001b[43m \u001b[49m\u001b[38;5;66;43;03m# float (numeric value between 0.0 and 1.0) in 'x18' Slider component\u001b[39;49;00m\n\u001b[0;32m     53\u001b[0m \u001b[43m        \u001b[49m\u001b[43mparams\u001b[49m\u001b[43m[\u001b[49m\u001b[38;5;124;43m'\u001b[39;49m\u001b[38;5;124;43mx19\u001b[39;49m\u001b[38;5;124;43m'\u001b[39;49m\u001b[43m]\u001b[49m\u001b[43m,\u001b[49m\u001b[43m \u001b[49m\u001b[38;5;66;43;03m# float (numeric value between 0.0 and 0.9999999999999998) in 'x19' Slider component\u001b[39;49;00m\n\u001b[0;32m     54\u001b[0m \u001b[43m        \u001b[49m\u001b[43mparams\u001b[49m\u001b[43m[\u001b[49m\u001b[38;5;124;43m'\u001b[39;49m\u001b[38;5;124;43mx20\u001b[39;49m\u001b[38;5;124;43m'\u001b[39;49m\u001b[43m]\u001b[49m\u001b[43m,\u001b[49m\u001b[43m \u001b[49m\u001b[38;5;66;43;03m# float (numeric value between 0.0 and 0.9999999999999998) in 'x20' Slider component\u001b[39;49;00m\n\u001b[0;32m     55\u001b[0m \u001b[43m        \u001b[49m\u001b[43mparams\u001b[49m\u001b[43m[\u001b[49m\u001b[38;5;124;43m'\u001b[39;49m\u001b[38;5;124;43mc1\u001b[39;49m\u001b[38;5;124;43m'\u001b[39;49m\u001b[43m]\u001b[49m\u001b[43m,\u001b[49m\u001b[43m  \u001b[49m\u001b[38;5;66;43;03m# Literal['c1_0', 'c1_1'] in 'c1' Radio component\u001b[39;49;00m\n\u001b[0;32m     56\u001b[0m \u001b[43m        \u001b[49m\u001b[43mparams\u001b[49m\u001b[43m[\u001b[49m\u001b[38;5;124;43m'\u001b[39;49m\u001b[38;5;124;43mc2\u001b[39;49m\u001b[38;5;124;43m'\u001b[39;49m\u001b[43m]\u001b[49m\u001b[43m,\u001b[49m\u001b[43m  \u001b[49m\u001b[38;5;66;43;03m# Literal['c2_0', 'c2_1'] in 'c2' Radio component\u001b[39;49;00m\n\u001b[0;32m     57\u001b[0m \u001b[43m        \u001b[49m\u001b[43mparams\u001b[49m\u001b[43m[\u001b[49m\u001b[38;5;124;43m'\u001b[39;49m\u001b[38;5;124;43mc3\u001b[39;49m\u001b[38;5;124;43m'\u001b[39;49m\u001b[43m]\u001b[49m\u001b[43m,\u001b[49m\u001b[43m  \u001b[49m\u001b[38;5;66;43;03m# Literal['c3_0', 'c3_1', 'c3_2'] in 'c3' Radio component\u001b[39;49;00m\n\u001b[0;32m     58\u001b[0m \u001b[43m        \u001b[49m\u001b[38;5;241;43m0.5\u001b[39;49m\u001b[43m,\u001b[49m\u001b[43m           \u001b[49m\u001b[38;5;66;43;03m# float (numeric value between 0.0 and 1.0) in 'fidelity1' Slider component\u001b[39;49;00m\n\u001b[0;32m     59\u001b[0m \u001b[43m        \u001b[49m\u001b[43mapi_name\u001b[49m\u001b[38;5;241;43m=\u001b[39;49m\u001b[38;5;124;43m\"\u001b[39;49m\u001b[38;5;124;43m/predict\u001b[39;49m\u001b[38;5;124;43m\"\u001b[39;49m\u001b[43m,\u001b[49m\n\u001b[0;32m     60\u001b[0m \u001b[43m    \u001b[49m\u001b[43m)\u001b[49m\n\u001b[0;32m     61\u001b[0m     \u001b[38;5;28;01mreturn\u001b[39;00m result[\u001b[38;5;124m'\u001b[39m\u001b[38;5;124mdata\u001b[39m\u001b[38;5;124m'\u001b[39m][\u001b[38;5;241m0\u001b[39m][\u001b[38;5;241m0\u001b[39m]\n",
      "File \u001b[1;32mc:\\Users\\MF\\anaconda3\\envs\\BayBE\\lib\\site-packages\\gradio_client\\client.py:468\u001b[0m, in \u001b[0;36mClient.predict\u001b[1;34m(self, api_name, fn_index, *args, **kwargs)\u001b[0m\n\u001b[0;32m    450\u001b[0m \u001b[38;5;250m\u001b[39m\u001b[38;5;124;03m\"\"\"\u001b[39;00m\n\u001b[0;32m    451\u001b[0m \u001b[38;5;124;03mCalls the Gradio API and returns the result (this is a blocking call).\u001b[39;00m\n\u001b[0;32m    452\u001b[0m \n\u001b[1;32m   (...)\u001b[0m\n\u001b[0;32m    463\u001b[0m \u001b[38;5;124;03m    >> 9.0\u001b[39;00m\n\u001b[0;32m    464\u001b[0m \u001b[38;5;124;03m\"\"\"\u001b[39;00m\n\u001b[0;32m    465\u001b[0m \u001b[38;5;28mself\u001b[39m\u001b[38;5;241m.\u001b[39m_infer_fn_index(api_name, fn_index)\n\u001b[0;32m    466\u001b[0m \u001b[38;5;28;01mreturn\u001b[39;00m \u001b[38;5;28;43mself\u001b[39;49m\u001b[38;5;241;43m.\u001b[39;49m\u001b[43msubmit\u001b[49m\u001b[43m(\u001b[49m\n\u001b[0;32m    467\u001b[0m \u001b[43m    \u001b[49m\u001b[38;5;241;43m*\u001b[39;49m\u001b[43margs\u001b[49m\u001b[43m,\u001b[49m\u001b[43m \u001b[49m\u001b[43mapi_name\u001b[49m\u001b[38;5;241;43m=\u001b[39;49m\u001b[43mapi_name\u001b[49m\u001b[43m,\u001b[49m\u001b[43m \u001b[49m\u001b[43mfn_index\u001b[49m\u001b[38;5;241;43m=\u001b[39;49m\u001b[43mfn_index\u001b[49m\u001b[43m,\u001b[49m\u001b[43m \u001b[49m\u001b[38;5;241;43m*\u001b[39;49m\u001b[38;5;241;43m*\u001b[39;49m\u001b[43mkwargs\u001b[49m\n\u001b[1;32m--> 468\u001b[0m \u001b[43m\u001b[49m\u001b[43m)\u001b[49m\u001b[38;5;241;43m.\u001b[39;49m\u001b[43mresult\u001b[49m\u001b[43m(\u001b[49m\u001b[43m)\u001b[49m\n",
      "File \u001b[1;32mc:\\Users\\MF\\anaconda3\\envs\\BayBE\\lib\\site-packages\\gradio_client\\client.py:1499\u001b[0m, in \u001b[0;36mJob.result\u001b[1;34m(self, timeout)\u001b[0m\n\u001b[0;32m   1484\u001b[0m \u001b[38;5;28;01mdef\u001b[39;00m \u001b[38;5;21mresult\u001b[39m(\u001b[38;5;28mself\u001b[39m, timeout: \u001b[38;5;28mfloat\u001b[39m \u001b[38;5;241m|\u001b[39m \u001b[38;5;28;01mNone\u001b[39;00m \u001b[38;5;241m=\u001b[39m \u001b[38;5;28;01mNone\u001b[39;00m) \u001b[38;5;241m-\u001b[39m\u001b[38;5;241m>\u001b[39m Any:\n\u001b[0;32m   1485\u001b[0m \u001b[38;5;250m    \u001b[39m\u001b[38;5;124;03m\"\"\"\u001b[39;00m\n\u001b[0;32m   1486\u001b[0m \u001b[38;5;124;03m    Return the result of the call that the future represents. Raises CancelledError: If the future was cancelled, TimeoutError: If the future didn't finish executing before the given timeout, and Exception: If the call raised then that exception will be raised.\u001b[39;00m\n\u001b[0;32m   1487\u001b[0m \n\u001b[1;32m   (...)\u001b[0m\n\u001b[0;32m   1497\u001b[0m \u001b[38;5;124;03m        >> 9\u001b[39;00m\n\u001b[0;32m   1498\u001b[0m \u001b[38;5;124;03m    \"\"\"\u001b[39;00m\n\u001b[1;32m-> 1499\u001b[0m     \u001b[38;5;28;01mreturn\u001b[39;00m \u001b[38;5;28;43msuper\u001b[39;49m\u001b[43m(\u001b[49m\u001b[43m)\u001b[49m\u001b[38;5;241;43m.\u001b[39;49m\u001b[43mresult\u001b[49m\u001b[43m(\u001b[49m\u001b[43mtimeout\u001b[49m\u001b[38;5;241;43m=\u001b[39;49m\u001b[43mtimeout\u001b[49m\u001b[43m)\u001b[49m\n",
      "File \u001b[1;32mc:\\Users\\MF\\anaconda3\\envs\\BayBE\\lib\\concurrent\\futures\\_base.py:458\u001b[0m, in \u001b[0;36mFuture.result\u001b[1;34m(self, timeout)\u001b[0m\n\u001b[0;32m    456\u001b[0m     \u001b[38;5;28;01mraise\u001b[39;00m CancelledError()\n\u001b[0;32m    457\u001b[0m \u001b[38;5;28;01melif\u001b[39;00m \u001b[38;5;28mself\u001b[39m\u001b[38;5;241m.\u001b[39m_state \u001b[38;5;241m==\u001b[39m FINISHED:\n\u001b[1;32m--> 458\u001b[0m     \u001b[38;5;28;01mreturn\u001b[39;00m \u001b[38;5;28;43mself\u001b[39;49m\u001b[38;5;241;43m.\u001b[39;49m\u001b[43m__get_result\u001b[49m\u001b[43m(\u001b[49m\u001b[43m)\u001b[49m\n\u001b[0;32m    459\u001b[0m \u001b[38;5;28;01melse\u001b[39;00m:\n\u001b[0;32m    460\u001b[0m     \u001b[38;5;28;01mraise\u001b[39;00m \u001b[38;5;167;01mTimeoutError\u001b[39;00m()\n",
      "File \u001b[1;32mc:\\Users\\MF\\anaconda3\\envs\\BayBE\\lib\\concurrent\\futures\\_base.py:403\u001b[0m, in \u001b[0;36mFuture.__get_result\u001b[1;34m(self)\u001b[0m\n\u001b[0;32m    401\u001b[0m \u001b[38;5;28;01mif\u001b[39;00m \u001b[38;5;28mself\u001b[39m\u001b[38;5;241m.\u001b[39m_exception:\n\u001b[0;32m    402\u001b[0m     \u001b[38;5;28;01mtry\u001b[39;00m:\n\u001b[1;32m--> 403\u001b[0m         \u001b[38;5;28;01mraise\u001b[39;00m \u001b[38;5;28mself\u001b[39m\u001b[38;5;241m.\u001b[39m_exception\n\u001b[0;32m    404\u001b[0m     \u001b[38;5;28;01mfinally\u001b[39;00m:\n\u001b[0;32m    405\u001b[0m         \u001b[38;5;66;03m# Break a reference cycle with the exception in self._exception\u001b[39;00m\n\u001b[0;32m    406\u001b[0m         \u001b[38;5;28mself\u001b[39m \u001b[38;5;241m=\u001b[39m \u001b[38;5;28;01mNone\u001b[39;00m\n",
      "File \u001b[1;32mc:\\Users\\MF\\anaconda3\\envs\\BayBE\\lib\\concurrent\\futures\\thread.py:58\u001b[0m, in \u001b[0;36m_WorkItem.run\u001b[1;34m(self)\u001b[0m\n\u001b[0;32m     55\u001b[0m     \u001b[38;5;28;01mreturn\u001b[39;00m\n\u001b[0;32m     57\u001b[0m \u001b[38;5;28;01mtry\u001b[39;00m:\n\u001b[1;32m---> 58\u001b[0m     result \u001b[38;5;241m=\u001b[39m \u001b[38;5;28mself\u001b[39m\u001b[38;5;241m.\u001b[39mfn(\u001b[38;5;241m*\u001b[39m\u001b[38;5;28mself\u001b[39m\u001b[38;5;241m.\u001b[39margs, \u001b[38;5;241m*\u001b[39m\u001b[38;5;241m*\u001b[39m\u001b[38;5;28mself\u001b[39m\u001b[38;5;241m.\u001b[39mkwargs)\n\u001b[0;32m     59\u001b[0m \u001b[38;5;28;01mexcept\u001b[39;00m \u001b[38;5;167;01mBaseException\u001b[39;00m \u001b[38;5;28;01mas\u001b[39;00m exc:\n\u001b[0;32m     60\u001b[0m     \u001b[38;5;28mself\u001b[39m\u001b[38;5;241m.\u001b[39mfuture\u001b[38;5;241m.\u001b[39mset_exception(exc)\n",
      "File \u001b[1;32mc:\\Users\\MF\\anaconda3\\envs\\BayBE\\lib\\site-packages\\gradio_client\\client.py:1121\u001b[0m, in \u001b[0;36mEndpoint.make_end_to_end_fn.<locals>._inner\u001b[1;34m(*data)\u001b[0m\n\u001b[0;32m   1119\u001b[0m data \u001b[38;5;241m=\u001b[39m \u001b[38;5;28mself\u001b[39m\u001b[38;5;241m.\u001b[39minsert_empty_state(\u001b[38;5;241m*\u001b[39mdata)\n\u001b[0;32m   1120\u001b[0m data \u001b[38;5;241m=\u001b[39m \u001b[38;5;28mself\u001b[39m\u001b[38;5;241m.\u001b[39mprocess_input_files(\u001b[38;5;241m*\u001b[39mdata)\n\u001b[1;32m-> 1121\u001b[0m predictions \u001b[38;5;241m=\u001b[39m \u001b[43m_predict\u001b[49m\u001b[43m(\u001b[49m\u001b[38;5;241;43m*\u001b[39;49m\u001b[43mdata\u001b[49m\u001b[43m)\u001b[49m\n\u001b[0;32m   1122\u001b[0m predictions \u001b[38;5;241m=\u001b[39m \u001b[38;5;28mself\u001b[39m\u001b[38;5;241m.\u001b[39mprocess_predictions(\u001b[38;5;241m*\u001b[39mpredictions)\n\u001b[0;32m   1124\u001b[0m \u001b[38;5;66;03m# Append final output only if not already present\u001b[39;00m\n\u001b[0;32m   1125\u001b[0m \u001b[38;5;66;03m# for consistency between generators and not generators\u001b[39;00m\n",
      "File \u001b[1;32mc:\\Users\\MF\\anaconda3\\envs\\BayBE\\lib\\site-packages\\gradio_client\\client.py:1233\u001b[0m, in \u001b[0;36mEndpoint.make_predict.<locals>._predict\u001b[1;34m(*data)\u001b[0m\n\u001b[0;32m   1231\u001b[0m \u001b[38;5;28;01mif\u001b[39;00m \u001b[38;5;124m\"\u001b[39m\u001b[38;5;124merror\u001b[39m\u001b[38;5;124m\"\u001b[39m \u001b[38;5;129;01min\u001b[39;00m result:\n\u001b[0;32m   1232\u001b[0m     \u001b[38;5;28;01mif\u001b[39;00m result[\u001b[38;5;124m\"\u001b[39m\u001b[38;5;124merror\u001b[39m\u001b[38;5;124m\"\u001b[39m] \u001b[38;5;129;01mis\u001b[39;00m \u001b[38;5;28;01mNone\u001b[39;00m:\n\u001b[1;32m-> 1233\u001b[0m         \u001b[38;5;28;01mraise\u001b[39;00m AppError(\n\u001b[0;32m   1234\u001b[0m             \u001b[38;5;124m\"\u001b[39m\u001b[38;5;124mThe upstream Gradio app has raised an exception but has not enabled \u001b[39m\u001b[38;5;124m\"\u001b[39m\n\u001b[0;32m   1235\u001b[0m             \u001b[38;5;124m\"\u001b[39m\u001b[38;5;124mverbose error reporting. To enable, set show_error=True in launch().\u001b[39m\u001b[38;5;124m\"\u001b[39m\n\u001b[0;32m   1236\u001b[0m         )\n\u001b[0;32m   1237\u001b[0m     \u001b[38;5;28;01melse\u001b[39;00m:\n\u001b[0;32m   1238\u001b[0m         \u001b[38;5;28;01mraise\u001b[39;00m AppError(\n\u001b[0;32m   1239\u001b[0m             \u001b[38;5;124m\"\u001b[39m\u001b[38;5;124mThe upstream Gradio app has raised an exception: \u001b[39m\u001b[38;5;124m\"\u001b[39m\n\u001b[0;32m   1240\u001b[0m             \u001b[38;5;241m+\u001b[39m result[\u001b[38;5;124m\"\u001b[39m\u001b[38;5;124merror\u001b[39m\u001b[38;5;124m\"\u001b[39m]\n\u001b[0;32m   1241\u001b[0m         )\n",
      "\u001b[1;31mAppError\u001b[0m: The upstream Gradio app has raised an exception but has not enabled verbose error reporting. To enable, set show_error=True in launch()."
     ]
    }
   ],
   "source": [
    "paras = {'c1': 'c1_1', 'c2': 'c2_0', 'c3': 'c3_2', 'x1': 0.6118901958577212, 'x2': 0.4111829149245071, 'x3': 0.9669932071676511, 'x4': 0.4011947349568585, 'x5': 0.5327450665659677, 'x6': 0.21291356632372327, 'x7': 0.13115749846280078, 'x8': 0.3032873297687223, 'x9': 0.37433820950967467, 'x10': 0.6643725999349213, 'x11': 0.9719434718766504, 'x12': 0.20871047682655874, 'x13': 0.4884984758589027, 'x14': 0.5908026063989489, 'x15': 0.1366531028890536, 'x16': 0.7450997611208788, 'x17': 0.7656059548378924, 'x18': 0.8665776018638673, 'x19': 0.2905417268369886, 'x20': 0.8706679030815925}\n",
    "adv_opt(**paras)\n",
    "# WRAPPED_FUNCTION(**paras)"
   ]
  },
  {
   "cell_type": "code",
   "execution_count": null,
   "metadata": {},
   "outputs": [],
   "source": []
  }
 ],
 "metadata": {
  "kernelspec": {
   "display_name": "BayBE",
   "language": "python",
   "name": "python3"
  },
  "language_info": {
   "codemirror_mode": {
    "name": "ipython",
    "version": 3
   },
   "file_extension": ".py",
   "mimetype": "text/x-python",
   "name": "python",
   "nbconvert_exporter": "python",
   "pygments_lexer": "ipython3",
   "version": "3.10.14"
  }
 },
 "nbformat": 4,
 "nbformat_minor": 2
}
