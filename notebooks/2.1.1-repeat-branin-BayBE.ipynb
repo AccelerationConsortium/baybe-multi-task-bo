{
 "cells": [
  {
   "cell_type": "markdown",
   "metadata": {},
   "source": [
    "# Average over multiple runs "
   ]
  },
  {
   "cell_type": "code",
   "execution_count": 11,
   "metadata": {},
   "outputs": [],
   "source": [
    "import os\n",
    "import matplotlib.pyplot as plt\n",
    "import numpy as np\n",
    "import seaborn as sns\n",
    "import torch\n",
    "from baybe import Campaign\n",
    "from baybe.objectives import SingleTargetObjective\n",
    "from baybe.parameters import NumericalContinuousParameter\n",
    "from baybe.searchspace import SearchSpace\n",
    "from baybe.simulation import simulate_scenarios\n",
    "from baybe.targets import NumericalTarget\n",
    "\n",
    "# NOTE: simulate_scenarios does NOT take random_seed as argument\n",
    "#       simulate_experiment does take random_seed as argument\n",
    "# even though i tried to set random seed here, the results df's random seed always stays the same (from 1337 to 1346)\n",
    "import random\n",
    "torch.manual_seed(42)\n",
    "random.seed(42)\n",
    "np.random.seed(42)\n",
    "\n",
    "from baybe.utils.random import set_random_seed\n",
    "set_random_seed(42)"
   ]
  },
  {
   "cell_type": "code",
   "execution_count": 2,
   "metadata": {},
   "outputs": [],
   "source": [
    "# Parameters for a full simulation loop\n",
    "N_MC_ITERATIONS = 10             # # of repeats \n",
    "N_DOE_ITERATIONS = 25           # # of \"budget\"/rounds in each repeat\n",
    "BOUNDS = torch.tensor([[-5., 0.], [10., 15.]])\n",
    "DIMENSION = 2"
   ]
  },
  {
   "cell_type": "code",
   "execution_count": 3,
   "metadata": {},
   "outputs": [],
   "source": [
    "def branin(x1, x2):\n",
    "    y = float(\n",
    "        (x2 - 5.1 / (4 * np.pi**2) * x1**2 + 5.0 / np.pi * x1 - 6.0) ** 2\n",
    "        + 10 * (1 - 1.0 / (8 * np.pi)) * np.cos(x1)\n",
    "        + 10\n",
    "    )\n",
    "    return y\n",
    "\n",
    "WRAPPED_FUNCTION = branin"
   ]
  },
  {
   "cell_type": "code",
   "execution_count": 4,
   "metadata": {},
   "outputs": [],
   "source": [
    "# create search space and objective\n",
    "parameters = [\n",
    "    NumericalContinuousParameter(\n",
    "        name=f\"x_{k+1}\",\n",
    "        bounds=(BOUNDS[0, k], BOUNDS[1, k]),\n",
    "    )\n",
    "    for k in range(DIMENSION)\n",
    "]\n",
    "\n",
    "searchspace = SearchSpace.from_product(parameters=parameters)\n",
    "objective = SingleTargetObjective(target=NumericalTarget(name=\"Target\", mode=\"MIN\"))"
   ]
  },
  {
   "cell_type": "code",
   "execution_count": 5,
   "metadata": {},
   "outputs": [],
   "source": [
    "# (define optimization strategy - recommender)\n",
    "# construct campaign\n",
    "campaign = Campaign(searchspace=searchspace, objective=objective)"
   ]
  },
  {
   "cell_type": "code",
   "execution_count": 6,
   "metadata": {},
   "outputs": [
    {
     "name": "stderr",
     "output_type": "stream",
     "text": [
      "  0%|          | 0/10 [00:00<?, ?it/s]"
     ]
    },
    {
     "name": "stderr",
     "output_type": "stream",
     "text": [
      "c:\\Users\\MF\\anaconda3\\envs\\BayBE\\lib\\site-packages\\botorch\\models\\transforms\\outcome.py:289: UserWarning: std(): degrees of freedom is <= 0. Correction should be strictly less than the reduction factor (input numel divided by output numel). (Triggered internally at ..\\aten\\src\\ATen\\native\\ReduceOps.cpp:1807.)\n",
      "  stdvs = Y.std(dim=-2, keepdim=True)\n",
      "c:\\Users\\MF\\anaconda3\\envs\\BayBE\\lib\\site-packages\\botorch\\models\\utils\\assorted.py:194: UserWarning: std(): degrees of freedom is <= 0. Correction should be strictly less than the reduction factor (input numel divided by output numel). (Triggered internally at ..\\aten\\src\\ATen\\native\\ReduceOps.cpp:1807.)\n",
      "  Ymean, Ystd = torch.mean(Y, dim=-2), torch.std(Y, dim=-2)\n",
      " 10%|#         | 1/10 [00:07<01:06,  7.34s/it]c:\\Users\\MF\\anaconda3\\envs\\BayBE\\lib\\site-packages\\botorch\\models\\transforms\\outcome.py:289: UserWarning: std(): degrees of freedom is <= 0. Correction should be strictly less than the reduction factor (input numel divided by output numel). (Triggered internally at ..\\aten\\src\\ATen\\native\\ReduceOps.cpp:1807.)\n",
      "  stdvs = Y.std(dim=-2, keepdim=True)\n",
      "c:\\Users\\MF\\anaconda3\\envs\\BayBE\\lib\\site-packages\\botorch\\models\\utils\\assorted.py:194: UserWarning: std(): degrees of freedom is <= 0. Correction should be strictly less than the reduction factor (input numel divided by output numel). (Triggered internally at ..\\aten\\src\\ATen\\native\\ReduceOps.cpp:1807.)\n",
      "  Ymean, Ystd = torch.mean(Y, dim=-2), torch.std(Y, dim=-2)\n",
      " 20%|##        | 2/10 [00:12<00:49,  6.13s/it]c:\\Users\\MF\\anaconda3\\envs\\BayBE\\lib\\site-packages\\botorch\\models\\transforms\\outcome.py:289: UserWarning: std(): degrees of freedom is <= 0. Correction should be strictly less than the reduction factor (input numel divided by output numel). (Triggered internally at ..\\aten\\src\\ATen\\native\\ReduceOps.cpp:1807.)\n",
      "  stdvs = Y.std(dim=-2, keepdim=True)\n",
      "c:\\Users\\MF\\anaconda3\\envs\\BayBE\\lib\\site-packages\\botorch\\models\\utils\\assorted.py:194: UserWarning: std(): degrees of freedom is <= 0. Correction should be strictly less than the reduction factor (input numel divided by output numel). (Triggered internally at ..\\aten\\src\\ATen\\native\\ReduceOps.cpp:1807.)\n",
      "  Ymean, Ystd = torch.mean(Y, dim=-2), torch.std(Y, dim=-2)\n",
      " 30%|###       | 3/10 [00:17<00:41,  5.93s/it]c:\\Users\\MF\\anaconda3\\envs\\BayBE\\lib\\site-packages\\botorch\\models\\transforms\\outcome.py:289: UserWarning: std(): degrees of freedom is <= 0. Correction should be strictly less than the reduction factor (input numel divided by output numel). (Triggered internally at ..\\aten\\src\\ATen\\native\\ReduceOps.cpp:1807.)\n",
      "  stdvs = Y.std(dim=-2, keepdim=True)\n",
      "c:\\Users\\MF\\anaconda3\\envs\\BayBE\\lib\\site-packages\\botorch\\models\\utils\\assorted.py:194: UserWarning: std(): degrees of freedom is <= 0. Correction should be strictly less than the reduction factor (input numel divided by output numel). (Triggered internally at ..\\aten\\src\\ATen\\native\\ReduceOps.cpp:1807.)\n",
      "  Ymean, Ystd = torch.mean(Y, dim=-2), torch.std(Y, dim=-2)\n",
      " 40%|####      | 4/10 [00:22<00:34,  5.71s/it]c:\\Users\\MF\\anaconda3\\envs\\BayBE\\lib\\site-packages\\botorch\\models\\transforms\\outcome.py:289: UserWarning: std(): degrees of freedom is <= 0. Correction should be strictly less than the reduction factor (input numel divided by output numel). (Triggered internally at ..\\aten\\src\\ATen\\native\\ReduceOps.cpp:1807.)\n",
      "  stdvs = Y.std(dim=-2, keepdim=True)\n",
      "c:\\Users\\MF\\anaconda3\\envs\\BayBE\\lib\\site-packages\\botorch\\models\\utils\\assorted.py:194: UserWarning: std(): degrees of freedom is <= 0. Correction should be strictly less than the reduction factor (input numel divided by output numel). (Triggered internally at ..\\aten\\src\\ATen\\native\\ReduceOps.cpp:1807.)\n",
      "  Ymean, Ystd = torch.mean(Y, dim=-2), torch.std(Y, dim=-2)\n",
      " 50%|#####     | 5/10 [00:28<00:28,  5.66s/it]c:\\Users\\MF\\anaconda3\\envs\\BayBE\\lib\\site-packages\\botorch\\models\\transforms\\outcome.py:289: UserWarning: std(): degrees of freedom is <= 0. Correction should be strictly less than the reduction factor (input numel divided by output numel). (Triggered internally at ..\\aten\\src\\ATen\\native\\ReduceOps.cpp:1807.)\n",
      "  stdvs = Y.std(dim=-2, keepdim=True)\n",
      "c:\\Users\\MF\\anaconda3\\envs\\BayBE\\lib\\site-packages\\botorch\\models\\utils\\assorted.py:194: UserWarning: std(): degrees of freedom is <= 0. Correction should be strictly less than the reduction factor (input numel divided by output numel). (Triggered internally at ..\\aten\\src\\ATen\\native\\ReduceOps.cpp:1807.)\n",
      "  Ymean, Ystd = torch.mean(Y, dim=-2), torch.std(Y, dim=-2)\n",
      "c:\\Users\\MF\\anaconda3\\envs\\BayBE\\lib\\site-packages\\botorch\\optim\\initializers.py:432: BadInitialCandidatesWarning: Unable to find non-zero acquisition function values - initial conditions are being selected randomly.\n",
      "  warnings.warn(\n",
      " 60%|######    | 6/10 [00:33<00:22,  5.58s/it]c:\\Users\\MF\\anaconda3\\envs\\BayBE\\lib\\site-packages\\botorch\\models\\transforms\\outcome.py:289: UserWarning: std(): degrees of freedom is <= 0. Correction should be strictly less than the reduction factor (input numel divided by output numel). (Triggered internally at ..\\aten\\src\\ATen\\native\\ReduceOps.cpp:1807.)\n",
      "  stdvs = Y.std(dim=-2, keepdim=True)\n",
      "c:\\Users\\MF\\anaconda3\\envs\\BayBE\\lib\\site-packages\\botorch\\models\\utils\\assorted.py:194: UserWarning: std(): degrees of freedom is <= 0. Correction should be strictly less than the reduction factor (input numel divided by output numel). (Triggered internally at ..\\aten\\src\\ATen\\native\\ReduceOps.cpp:1807.)\n",
      "  Ymean, Ystd = torch.mean(Y, dim=-2), torch.std(Y, dim=-2)\n",
      " 70%|#######   | 7/10 [00:38<00:16,  5.52s/it]c:\\Users\\MF\\anaconda3\\envs\\BayBE\\lib\\site-packages\\botorch\\models\\transforms\\outcome.py:289: UserWarning: std(): degrees of freedom is <= 0. Correction should be strictly less than the reduction factor (input numel divided by output numel). (Triggered internally at ..\\aten\\src\\ATen\\native\\ReduceOps.cpp:1807.)\n",
      "  stdvs = Y.std(dim=-2, keepdim=True)\n",
      "c:\\Users\\MF\\anaconda3\\envs\\BayBE\\lib\\site-packages\\botorch\\models\\utils\\assorted.py:194: UserWarning: std(): degrees of freedom is <= 0. Correction should be strictly less than the reduction factor (input numel divided by output numel). (Triggered internally at ..\\aten\\src\\ATen\\native\\ReduceOps.cpp:1807.)\n",
      "  Ymean, Ystd = torch.mean(Y, dim=-2), torch.std(Y, dim=-2)\n",
      " 80%|########  | 8/10 [00:44<00:11,  5.53s/it]c:\\Users\\MF\\anaconda3\\envs\\BayBE\\lib\\site-packages\\botorch\\models\\transforms\\outcome.py:289: UserWarning: std(): degrees of freedom is <= 0. Correction should be strictly less than the reduction factor (input numel divided by output numel). (Triggered internally at ..\\aten\\src\\ATen\\native\\ReduceOps.cpp:1807.)\n",
      "  stdvs = Y.std(dim=-2, keepdim=True)\n",
      "c:\\Users\\MF\\anaconda3\\envs\\BayBE\\lib\\site-packages\\botorch\\models\\utils\\assorted.py:194: UserWarning: std(): degrees of freedom is <= 0. Correction should be strictly less than the reduction factor (input numel divided by output numel). (Triggered internally at ..\\aten\\src\\ATen\\native\\ReduceOps.cpp:1807.)\n",
      "  Ymean, Ystd = torch.mean(Y, dim=-2), torch.std(Y, dim=-2)\n",
      " 90%|######### | 9/10 [00:49<00:05,  5.54s/it]c:\\Users\\MF\\anaconda3\\envs\\BayBE\\lib\\site-packages\\botorch\\models\\transforms\\outcome.py:289: UserWarning: std(): degrees of freedom is <= 0. Correction should be strictly less than the reduction factor (input numel divided by output numel). (Triggered internally at ..\\aten\\src\\ATen\\native\\ReduceOps.cpp:1807.)\n",
      "  stdvs = Y.std(dim=-2, keepdim=True)\n",
      "c:\\Users\\MF\\anaconda3\\envs\\BayBE\\lib\\site-packages\\botorch\\models\\utils\\assorted.py:194: UserWarning: std(): degrees of freedom is <= 0. Correction should be strictly less than the reduction factor (input numel divided by output numel). (Triggered internally at ..\\aten\\src\\ATen\\native\\ReduceOps.cpp:1807.)\n",
      "  Ymean, Ystd = torch.mean(Y, dim=-2), torch.std(Y, dim=-2)\n",
      "100%|##########| 10/10 [00:55<00:00,  5.50s/it]\n"
     ]
    }
   ],
   "source": [
    "# perform simulation loop\n",
    "scenarios = {\"Branin\": campaign}\n",
    "results = simulate_scenarios(\n",
    "    scenarios,\n",
    "    WRAPPED_FUNCTION,\n",
    "    batch_size=1,\n",
    "    n_doe_iterations=N_DOE_ITERATIONS,\n",
    "    n_mc_iterations=N_MC_ITERATIONS,\n",
    "    initial_data=None,\n",
    ")"
   ]
  },
  {
   "cell_type": "code",
   "execution_count": 7,
   "metadata": {},
   "outputs": [
    {
     "data": {
      "text/plain": [
       "<matplotlib.lines.Line2D at 0x248b7af8730>"
      ]
     },
     "execution_count": 7,
     "metadata": {},
     "output_type": "execute_result"
    },
    {
     "data": {
      "image/png": "[encoded data removed]",
      "text/plain": [
       "<Figure size 1000x600 with 1 Axes>"
      ]
     },
     "metadata": {},
     "output_type": "display_data"
    }
   ],
   "source": [
    "sns.lineplot(data=results, x=\"Num_Experiments\", y=\"Target_CumBest\", hue=\"Scenario\")\n",
    "plt.gcf().set_size_inches(10, 6)\n",
    "plt.ylabel(\"Best observed value\")\n",
    "plt.xlabel(\"# of iterations\")\n",
    "plt.title(\"Branin Optimization, BayBE\")\n",
    "plt.ylim(-1, 80)\n",
    "plt.axhline(0.397887, color=\"red\", linestyle=\"--\")"
   ]
  },
  {
   "cell_type": "code",
   "execution_count": 8,
   "metadata": {},
   "outputs": [
    {
     "data": {
      "text/html": [
       "<div>\n",
       "<style scoped>\n",
       "    .dataframe tbody tr th:only-of-type {\n",
       "        vertical-align: middle;\n",
       "    }\n",
       "\n",
       "    .dataframe tbody tr th {\n",
       "        vertical-align: top;\n",
       "    }\n",
       "\n",
       "    .dataframe thead th {\n",
       "        text-align: right;\n",
       "    }\n",
       "</style>\n",
       "<table border=\"1\" class=\"dataframe\">\n",
       "  <thead>\n",
       "    <tr style=\"text-align: right;\">\n",
       "      <th></th>\n",
       "      <th>Scenario</th>\n",
       "      <th>Random_Seed</th>\n",
       "      <th>Iteration</th>\n",
       "      <th>Num_Experiments</th>\n",
       "      <th>Target_Measurements</th>\n",
       "      <th>Target_IterBest</th>\n",
       "      <th>Target_CumBest</th>\n",
       "    </tr>\n",
       "  </thead>\n",
       "  <tbody>\n",
       "    <tr>\n",
       "      <th>0</th>\n",
       "      <td>Branin</td>\n",
       "      <td>1337</td>\n",
       "      <td>0</td>\n",
       "      <td>1</td>\n",
       "      <td>[23.68487721017125]</td>\n",
       "      <td>23.684877</td>\n",
       "      <td>23.684877</td>\n",
       "    </tr>\n",
       "    <tr>\n",
       "      <th>1</th>\n",
       "      <td>Branin</td>\n",
       "      <td>1337</td>\n",
       "      <td>1</td>\n",
       "      <td>2</td>\n",
       "      <td>[12.704745524424196]</td>\n",
       "      <td>12.704746</td>\n",
       "      <td>12.704746</td>\n",
       "    </tr>\n",
       "    <tr>\n",
       "      <th>2</th>\n",
       "      <td>Branin</td>\n",
       "      <td>1337</td>\n",
       "      <td>2</td>\n",
       "      <td>3</td>\n",
       "      <td>[54.43140500747371]</td>\n",
       "      <td>54.431405</td>\n",
       "      <td>12.704746</td>\n",
       "    </tr>\n",
       "    <tr>\n",
       "      <th>3</th>\n",
       "      <td>Branin</td>\n",
       "      <td>1337</td>\n",
       "      <td>3</td>\n",
       "      <td>4</td>\n",
       "      <td>[111.55210922486847]</td>\n",
       "      <td>111.552109</td>\n",
       "      <td>12.704746</td>\n",
       "    </tr>\n",
       "    <tr>\n",
       "      <th>4</th>\n",
       "      <td>Branin</td>\n",
       "      <td>1337</td>\n",
       "      <td>4</td>\n",
       "      <td>5</td>\n",
       "      <td>[7.922871133042063]</td>\n",
       "      <td>7.922871</td>\n",
       "      <td>7.922871</td>\n",
       "    </tr>\n",
       "    <tr>\n",
       "      <th>...</th>\n",
       "      <td>...</td>\n",
       "      <td>...</td>\n",
       "      <td>...</td>\n",
       "      <td>...</td>\n",
       "      <td>...</td>\n",
       "      <td>...</td>\n",
       "      <td>...</td>\n",
       "    </tr>\n",
       "    <tr>\n",
       "      <th>245</th>\n",
       "      <td>Branin</td>\n",
       "      <td>1346</td>\n",
       "      <td>20</td>\n",
       "      <td>21</td>\n",
       "      <td>[0.8291680479654495]</td>\n",
       "      <td>0.829168</td>\n",
       "      <td>0.473423</td>\n",
       "    </tr>\n",
       "    <tr>\n",
       "      <th>246</th>\n",
       "      <td>Branin</td>\n",
       "      <td>1346</td>\n",
       "      <td>21</td>\n",
       "      <td>22</td>\n",
       "      <td>[2.0222418598540424]</td>\n",
       "      <td>2.022242</td>\n",
       "      <td>0.473423</td>\n",
       "    </tr>\n",
       "    <tr>\n",
       "      <th>247</th>\n",
       "      <td>Branin</td>\n",
       "      <td>1346</td>\n",
       "      <td>22</td>\n",
       "      <td>23</td>\n",
       "      <td>[10.662034803318075]</td>\n",
       "      <td>10.662035</td>\n",
       "      <td>0.473423</td>\n",
       "    </tr>\n",
       "    <tr>\n",
       "      <th>248</th>\n",
       "      <td>Branin</td>\n",
       "      <td>1346</td>\n",
       "      <td>23</td>\n",
       "      <td>24</td>\n",
       "      <td>[0.895451093955991]</td>\n",
       "      <td>0.895451</td>\n",
       "      <td>0.473423</td>\n",
       "    </tr>\n",
       "    <tr>\n",
       "      <th>249</th>\n",
       "      <td>Branin</td>\n",
       "      <td>1346</td>\n",
       "      <td>24</td>\n",
       "      <td>25</td>\n",
       "      <td>[1.4773725685564205]</td>\n",
       "      <td>1.477373</td>\n",
       "      <td>0.473423</td>\n",
       "    </tr>\n",
       "  </tbody>\n",
       "</table>\n",
       "<p>250 rows × 7 columns</p>\n",
       "</div>"
      ],
      "text/plain": [
       "    Scenario  Random_Seed  Iteration  Num_Experiments   Target_Measurements  \\\n",
       "0     Branin         1337          0                1   [23.68487721017125]   \n",
       "1     Branin         1337          1                2  [12.704745524424196]   \n",
       "2     Branin         1337          2                3   [54.43140500747371]   \n",
       "3     Branin         1337          3                4  [111.55210922486847]   \n",
       "4     Branin         1337          4                5   [7.922871133042063]   \n",
       "..       ...          ...        ...              ...                   ...   \n",
       "245   Branin         1346         20               21  [0.8291680479654495]   \n",
       "246   Branin         1346         21               22  [2.0222418598540424]   \n",
       "247   Branin         1346         22               23  [10.662034803318075]   \n",
       "248   Branin         1346         23               24   [0.895451093955991]   \n",
       "249   Branin         1346         24               25  [1.4773725685564205]   \n",
       "\n",
       "     Target_IterBest  Target_CumBest  \n",
       "0          23.684877       23.684877  \n",
       "1          12.704746       12.704746  \n",
       "2          54.431405       12.704746  \n",
       "3         111.552109       12.704746  \n",
       "4           7.922871        7.922871  \n",
       "..               ...             ...  \n",
       "245         0.829168        0.473423  \n",
       "246         2.022242        0.473423  \n",
       "247        10.662035        0.473423  \n",
       "248         0.895451        0.473423  \n",
       "249         1.477373        0.473423  \n",
       "\n",
       "[250 rows x 7 columns]"
      ]
     },
     "execution_count": 8,
     "metadata": {},
     "output_type": "execute_result"
    }
   ],
   "source": [
    "results"
   ]
  },
  {
   "cell_type": "code",
   "execution_count": 9,
   "metadata": {},
   "outputs": [],
   "source": [
    "xx_baybe = results['Target_IterBest'].to_numpy()\n",
    "reshape_baybe = xx_baybe.reshape(N_MC_ITERATIONS, N_DOE_ITERATIONS)\n",
    "np.savetxt('xx-baybe.csv', reshape_baybe)"
   ]
  }
 ],
 "metadata": {
  "kernelspec": {
   "display_name": "BayBE",
   "language": "python",
   "name": "python3"
  },
  "language_info": {
   "codemirror_mode": {
    "name": "ipython",
    "version": 3
   },
   "file_extension": ".py",
   "mimetype": "text/x-python",
   "name": "python",
   "nbconvert_exporter": "python",
   "pygments_lexer": "ipython3",
   "version": "3.10.14"
  }
 },
 "nbformat": 4,
 "nbformat_minor": 2
}
